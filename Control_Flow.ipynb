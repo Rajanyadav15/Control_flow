{
 "cells": [
  {
   "cell_type": "markdown",
   "id": "1b2691ec-e3e2-44e1-8444-47457e0f9bca",
   "metadata": {},
   "source": [
    "### 1. Write a Python program to check if a given number is positive or negative."
   ]
  },
  {
   "cell_type": "code",
   "execution_count": 6,
   "id": "e9df3ca6-f1f4-40ea-a1da-fa8057d75c9d",
   "metadata": {},
   "outputs": [
    {
     "name": "stdin",
     "output_type": "stream",
     "text": [
      "Enter a number:  5\n"
     ]
    },
    {
     "name": "stdout",
     "output_type": "stream",
     "text": [
      "The number is positive.\n"
     ]
    }
   ],
   "source": [
    "# Define a function named check_positive_or_negative that takes a parameter named number\n",
    "def check_positive_or_negative(number):\n",
    "    # Check if the number is greater than 0\n",
    "    if number > 0:\n",
    "        # If the number is greater than 0, print that the number is positive\n",
    "        print(\"The number is positive.\")\n",
    "    # If the number is not greater than 0, check if it's equal to 0\n",
    "    elif number == 0:\n",
    "        # If the number is equal to 0, print that the number is zero\n",
    "        print(\"The number is zero.\")\n",
    "    # If the number is not greater than 0 and not equal to 0, it must be negative\n",
    "    else:\n",
    "        # Print that the number is negative\n",
    "        print(\"The number is negative.\")\n",
    "\n",
    "# Prompt the user to enter a number and convert the input to a floating-point number\n",
    "number = float(input(\"Enter a number: \"))\n",
    "# Call the function check_positive_or_negative with the entered number as argument\n",
    "check_positive_or_negative(number)"
   ]
  },
  {
   "cell_type": "markdown",
   "id": "76cd91ba-aa01-4122-90b8-257385abddb2",
   "metadata": {},
   "source": [
    "- def check_positive_or_negative(number):: This line defines a function named check_positive_or_negative that takes a parameter named number.\n",
    "\n",
    "- if number > 0:: This line starts an if statement, checking if the number is greater than 0.\n",
    "\n",
    "- print(\"The number is positive.\"): If the condition in line 2 is true, this line executes, printing a message indicating that the number is positive.\n",
    "\n",
    "- elif number == 0:: This line is an \"else if\" statement, checking if the number is equal to 0.\n",
    "\n",
    "- print(\"The number is zero.\"): If the condition in line 4 is true, this line executes, printing a message indicating that the number is zero.\n",
    "\n",
    "- else:: This line is the \"else\" part of the if statement, which means that if none of the above conditions are true, this block of code will execute.\n",
    "\n",
    "- print(\"The number is negative.\"): If the condition in line 6 is true, this line executes, printing a message indicating that the number is negative.\n",
    "\n",
    "- number = float(input(\"Enter a number: \")): This line prompts the user to enter a number and converts the input to a floating-point number, storing it in the variable number.\n",
    "\n",
    "- check_positive_or_negative(number): This line calls the function check_positive_or_negative with the entered number as an argument, executing the code within the function definition."
   ]
  },
  {
   "cell_type": "markdown",
   "id": "04fa3d5c-0121-406e-9e02-d890eaa0fe47",
   "metadata": {},
   "source": [
    "### 2. Create a program that determines if a person is eligible to vote based on their age."
   ]
  },
  {
   "cell_type": "code",
   "execution_count": 17,
   "id": "69aae9ab-fcf2-4c7a-9229-439c35aa9b6e",
   "metadata": {},
   "outputs": [
    {
     "name": "stdin",
     "output_type": "stream",
     "text": [
      "Enter Your age:  90\n"
     ]
    },
    {
     "name": "stdout",
     "output_type": "stream",
     "text": [
      "You are eligible to vote!\n"
     ]
    }
   ],
   "source": [
    "def check_voting_eligibility(age):\n",
    "    if age >= 18:\n",
    "        print(\"You are eligible to vote!\")\n",
    "    else:\n",
    "        print(\"You are not eligible to vote yet.\")\n",
    "        \n",
    "age = int(input(\"Enter Your age: \"))\n",
    "# Call the function to check voting eligibility\n",
    "check_voting_eligibility(age)"
   ]
  },
  {
   "cell_type": "markdown",
   "id": "93eb0446-3f54-440e-bfd2-1b4abe581721",
   "metadata": {},
   "source": [
    "- def check_voting_eligibility(age):: This line defines a function named check_voting_eligibility that takes a parameter named age.\n",
    "\n",
    "- if age >= 18:: This line checks if the age is greater than or equal to 18, which is the legal voting age in many countries.\n",
    "\n",
    "- print(\"You are eligible to vote!\"): If the condition in line 2 is true, this line executes, indicating that the person is eligible to vote.\n",
    "\n",
    "- else:: This line is the \"else\" part of the if statement, which means that if the condition in line 2 is not true, this block of code will execute.\n",
    "\n",
    "- print(\"You are not eligible to vote yet.\"): If the condition in line 4 is true, this line executes, indicating that the person is not eligible to vote yet.\n",
    "\n",
    "- age = int(input(\"Enter your age: \")): This line prompts the user to enter their age and converts the input to an integer, storing it in the variable age.\n",
    "\n",
    "- check_voting_eligibility(age): This line calls the function check_voting_eligibility with the entered age as an argument, executing the code within the function definition to determine voting eligibility."
   ]
  },
  {
   "cell_type": "markdown",
   "id": "0e3032b1-5530-461e-ad99-b1edb4b539bf",
   "metadata": {},
   "source": [
    "### 3. Develop a program to find the maximum of two numbers using if-else statements."
   ]
  },
  {
   "cell_type": "code",
   "execution_count": 20,
   "id": "ab6ae573-5d1c-4804-b127-5199e6a5a0d0",
   "metadata": {},
   "outputs": [
    {
     "name": "stdin",
     "output_type": "stream",
     "text": [
      "Enter the first number:  90\n",
      "Enter the second number:  78\n"
     ]
    },
    {
     "name": "stdout",
     "output_type": "stream",
     "text": [
      "maximum of 90 and 78 is: 90\n"
     ]
    }
   ],
   "source": [
    "# function to find the maximum of two numbers\n",
    "def find_maximum(num1,num2):\n",
    "    if num1 > num2:\n",
    "        return num1\n",
    "    else:\n",
    "        return num2\n",
    "#Input : Two numbers\n",
    "num1 = int(input(\"Enter the first number: \"))\n",
    "num2 = int(input(\"Enter the second number: \"))\n",
    "\n",
    "# Call the function to find the maximum\n",
    "maximum = find_maximum(num1,num2)\n",
    "\n",
    "# Print the result\n",
    "print(\"maximum of\", num1, \"and\", num2, \"is:\", maximum)"
   ]
  },
  {
   "cell_type": "markdown",
   "id": "4dcecda9-ab47-4107-a9fc-8e45819ed604",
   "metadata": {},
   "source": [
    "- def find_maximum(num1, num2):\n",
    "\n",
    "- This line defines a function named find_maximum that takes two numbers as input and returns the maximum of the two.\n",
    "- if num1 > num2:Checks if the first number is greater than the second number.\n",
    "- return num1 Returns the first number if it is greater.\n",
    "- else: Executes if the condition in the if statement is false.\n",
    "- return num2 Returns the second number if it is greater or equal.\n",
    "- num1 = float(input(\"Enter the first number: \")) Takes user input for the first number.\n",
    "- num2 = float(input(\"Enter the second number: \")) Takes user input for the second number.\n",
    "- maximum = find_maximum(num1, num2)\n",
    "\n",
    "- Calls the function to find the maximum of the two numbers.\n",
    "- print(\"Maximum of\", num1, \"and\", num2, \"is:\", maximum)\n",
    "\n",
    "- Prints the maximum of the two numbers."
   ]
  },
  {
   "cell_type": "markdown",
   "id": "8bb86f88-2648-4c80-8115-e6394b4ae544",
   "metadata": {},
   "source": [
    "### 4. Write a Python script to classify a given year as a leap year or not."
   ]
  },
  {
   "cell_type": "code",
   "execution_count": null,
   "id": "c8144185-439c-449a-a1ba-e798c23b2cda",
   "metadata": {},
   "outputs": [],
   "source": [
    "# Function to check if a year is a leap year\n",
    "def is_leap_year(year):\n",
    "    if (year % 4 == 0 and year % 100 != 0) or (year % 400 == 0):\n",
    "        return True\n",
    "    else:\n",
    "        return False\n",
    "\n",
    "# Input: Year\n",
    "year = int(input(\"Enter a year: \"))\n",
    "\n",
    "# Check if the year is a leap year\n",
    "if is_leap_year(year):\n",
    "    print(year, \"is a leap year.\")\n",
    "else:\n",
    "    print(year, \"is not a leap year.\")"
   ]
  },
  {
   "cell_type": "markdown",
   "id": "771719c3-9040-48c5-b8f7-6c71cfba8119",
   "metadata": {},
   "source": [
    "### 5. Create a program that checks whether a character is a vowel or a consonant."
   ]
  },
  {
   "cell_type": "code",
   "execution_count": 1,
   "id": "d84d902b-2b6d-4a97-b45c-b1bbad0e16d4",
   "metadata": {},
   "outputs": [
    {
     "name": "stdin",
     "output_type": "stream",
     "text": [
      "Enter a character:  a\n"
     ]
    },
    {
     "name": "stdout",
     "output_type": "stream",
     "text": [
      "a is a vowel.\n"
     ]
    }
   ],
   "source": [
    "# Function to check if a character is a vowel\n",
    "def is_vowel(char):\n",
    "    vowels = 'aeiouAEIOU'\n",
    "    return char in vowels\n",
    "\n",
    "# Input: Character\n",
    "character = input(\"Enter a character: \")\n",
    "\n",
    "# Check if the character is a vowel or a consonant\n",
    "if character.isalpha():\n",
    "    if is_vowel(character):\n",
    "        print(character, \"is a vowel.\")\n",
    "    else:\n",
    "        print(character, \"is a consonant.\")\n",
    "else:\n",
    "    print(\"Invalid input! Please enter a valid alphabet character.\")"
   ]
  },
  {
   "cell_type": "markdown",
   "id": "438b2ff2-b980-4981-aac0-051d847092c8",
   "metadata": {},
   "source": [
    "- def is_vowel(char): This line defines a function named is_vowel that checks if a character is a vowel.\n",
    "\n",
    "- vowels = 'aeiouAEIOU' Defines a string containing all vowel characters, both lowercase and uppercase.\n",
    "\n",
    "- return char in vowels Checks if the given character is present in the string of vowels.\n",
    "\n",
    "- character = input(\"Enter a character: \") Takes user input for the character.\n",
    "- if character.isalpha(): Checks if the input character is an alphabet character.\n",
    "- if is_vowel(character): Checks if the character is a vowel using the is_vowel function.\n",
    "- print(character, \"is a vowel.\") Prints a message indicating that the character is a vowel if the condition is true.\n",
    "- print(character, \"is a consonant.\") Prints a message indicating that the character is a consonant if the condition is false.\n",
    "- else: Executes if the input character is not an alphabet character.\n",
    "- print(\"Invalid input! Please enter a valid alphabet character.\") Prints a message indicating that the input is invalid if the input character is not an alphabet character."
   ]
  },
  {
   "cell_type": "markdown",
   "id": "ebd65f14-827c-440e-a5ad-eb04bafa348e",
   "metadata": {},
   "source": [
    "### 6. Implement a program to determine whether a given number is even or odd."
   ]
  },
  {
   "cell_type": "code",
   "execution_count": 2,
   "id": "b73b6460-7462-41c4-894e-b2c93bfc909b",
   "metadata": {},
   "outputs": [
    {
     "name": "stdin",
     "output_type": "stream",
     "text": [
      "Enter a number:  8\n"
     ]
    },
    {
     "name": "stdout",
     "output_type": "stream",
     "text": [
      "8 is even\n"
     ]
    }
   ],
   "source": [
    "# Function to determine if a number is even or odd\n",
    "def is_even_or_odd(number):\n",
    "    if number % 2 == 0:\n",
    "        return \"even\"\n",
    "    else:\n",
    "        return \"odd\"\n",
    "\n",
    "# Input: Number\n",
    "number = int(input(\"Enter a number: \"))\n",
    "\n",
    "# Check if the number is even or odd\n",
    "result = is_even_or_odd(number)\n",
    "\n",
    "# Print the result\n",
    "print(number, \"is\", result)"
   ]
  },
  {
   "cell_type": "markdown",
   "id": "78936d82-9346-44ed-8d56-3314d843ee6d",
   "metadata": {},
   "source": [
    "- def is_even_or_odd(number): This line defines a function named is_even_or_odd that determines if a number is even or odd.\n",
    "- if number % 2 == 0: Checks if the number is divisible by 2 without any remainder, indicating that it's even.\n",
    "- return \"even\" Returns \"even\" if the condition is true.\n",
    "- return \"odd\" Returns \"odd\" if the condition is false.\n",
    "- number = int(input(\"Enter a number: \")) Takes user input for the number.\n",
    "- result = is_even_or_odd(number) Calls the function to determine if the number is even or odd.\n",
    "- print(number, \"is\", result) Prints the result indicating whether the number is even or odd."
   ]
  },
  {
   "cell_type": "markdown",
   "id": "971b59a2-5838-45ad-a790-5e5fb286ade6",
   "metadata": {},
   "source": [
    "### 7. Write a Python function to calculate the absolute value of a number without using the `abs()` function."
   ]
  },
  {
   "cell_type": "code",
   "execution_count": 3,
   "id": "33d59de8-5901-4d21-a713-5d423a09e697",
   "metadata": {},
   "outputs": [
    {
     "name": "stdout",
     "output_type": "stream",
     "text": [
      "5\n",
      "8\n",
      "0\n"
     ]
    }
   ],
   "source": [
    "def absolute_value(num):\n",
    "    if num >= 0:\n",
    "        return num\n",
    "    else:\n",
    "        return -num\n",
    "\n",
    "# Example usage\n",
    "print(absolute_value(5))   # Output: 5\n",
    "print(absolute_value(-8))  # Output: 8\n",
    "print(absolute_value(0))   # Output: 0"
   ]
  },
  {
   "cell_type": "markdown",
   "id": "88f2fae4-cef2-4e6b-bb50-8546fcaec023",
   "metadata": {},
   "source": [
    "- The function absolute_value(num) takes a number num as input.\n",
    "\n",
    "- If the number num is greater than or equal to 0, it returns the number itself because the absolute value of a non-negative number is itself.\n",
    "\n",
    "- If the number num is negative, it returns the negation of the number, which effectively makes it positive, thus giving the absolute value.\n",
    "\n",
    "- The print() statements demonstrate example usage of the function with various numbers."
   ]
  },
  {
   "cell_type": "markdown",
   "id": "5fed676b-287a-4799-b27f-e68e3618932d",
   "metadata": {},
   "source": [
    "### 8. Develop a program that determines the largest of three given numbers using if-else statements."
   ]
  },
  {
   "cell_type": "code",
   "execution_count": 4,
   "id": "def8e361-94d4-4056-8993-037521d8fe1f",
   "metadata": {},
   "outputs": [
    {
     "name": "stdin",
     "output_type": "stream",
     "text": [
      "Enter the first number:  56\n",
      "Enter the second number:  78\n",
      "Enter the third number:  54\n"
     ]
    },
    {
     "name": "stdout",
     "output_type": "stream",
     "text": [
      "The largest number is: 78.0\n"
     ]
    }
   ],
   "source": [
    "# Function to determine the largest of three numbers\n",
    "def find_largest(num1, num2, num3):\n",
    "    if num1 >= num2 and num1 >= num3:\n",
    "        return num1\n",
    "    elif num2 >= num1 and num2 >= num3:\n",
    "        return num2\n",
    "    else:\n",
    "        return num3\n",
    "\n",
    "# Input: Three numbers\n",
    "num1 = float(input(\"Enter the first number: \"))\n",
    "num2 = float(input(\"Enter the second number: \"))\n",
    "num3 = float(input(\"Enter the third number: \"))\n",
    "\n",
    "# Call the function to find the largest\n",
    "largest = find_largest(num1, num2, num3)\n",
    "\n",
    "# Print the result\n",
    "print(\"The largest number is:\", largest)"
   ]
  },
  {
   "cell_type": "markdown",
   "id": "204c0e91-3605-4049-8ec3-1d3514227bc3",
   "metadata": {},
   "source": [
    "- def find_largest(num1, num2, num3): This line defines a function named find_largest that determines the largest of three numbers.\n",
    "- if num1 >= num2 and num1 >= num3: Checks if the first number is greater than or equal to the second and third numbers.\n",
    "- return num1 Returns the first number if it is the largest.\n",
    "- elif num2 >= num1 and num2 >= num3: Checks if the second number is greater than or equal to the first and third numbers.\n",
    "- return num2 Returns the second number if it is the largest.\n",
    "- else: Executes if neither of the above conditions is true, which means the third number is the largest.\n",
    "- return num3 Returns the third number as the largest.\n",
    "- The user is prompted to enter three numbers as input. The function find_largest(num1, num2, num3) is called with the three input numbers.\n",
    "- The result is printed, indicating the largest of the three numbers."
   ]
  },
  {
   "cell_type": "markdown",
   "id": "7e67e7e1-b1d6-4207-8874-0ac535eb7270",
   "metadata": {},
   "source": [
    "### 9. Create a program that checks if a given string is a palindrome"
   ]
  },
  {
   "cell_type": "code",
   "execution_count": 5,
   "id": "9ed51e11-4cd3-40a6-8851-1566d9dddecf",
   "metadata": {},
   "outputs": [
    {
     "name": "stdin",
     "output_type": "stream",
     "text": [
      "Enter the String:  Rajan\n"
     ]
    },
    {
     "name": "stdout",
     "output_type": "stream",
     "text": [
      "The string is not a palindrome.\n"
     ]
    }
   ],
   "source": [
    "def is_palindrome(s):\n",
    "     # Remove all non-alphanumeric characters and convert to lowercase\n",
    "        s = ''.join(char.lower() for char in s if char.isalnum())\n",
    "        # Check if the string is equal to its reverse\n",
    "        return s == s[::-1]\n",
    "    \n",
    "    #Input: String\n",
    "String = input(\"Enter the String: \")\n",
    "    \n",
    "    # Check if the string is a palindrome\n",
    "if is_palindrome(String):\n",
    "    print(\"The string is palindrome.\")\n",
    "else:\n",
    "    print(\"The string is not a palindrome.\")"
   ]
  },
  {
   "cell_type": "markdown",
   "id": "d150ac22-86d2-4d60-8da8-76dfc3ea169f",
   "metadata": {},
   "source": [
    "- def is_palindrome(s): This line defines a function named is_palindrome that checks if a given string s is a palindrome.\n",
    "- s = ''.join(char.lower() for char in s if char.isalnum()) This line removes all non-alphanumeric characters from the string s and converts it to lowercase.\n",
    "- return s == s[::-1] This line checks if the string s is equal to its reverse, which determines if it is a palindrome.\n",
    "- string = input(\"Enter a string: \") Takes user input for the string to be checked.\n",
    "- if is_palindrome(string): Checks if the input string is a palindrome using the is_palindrome function.\n",
    "- print(\"The string is a palindrome.\") Prints a message indicating that the string is a palindrome if the condition is true.\n",
    "- print(\"The string is not a palindrome.\") Prints a message indicating that the string is not a palindrome if the condition is false."
   ]
  },
  {
   "cell_type": "markdown",
   "id": "1a1a3700-eb02-423d-a499-fbd675e4b361",
   "metadata": {},
   "source": [
    "### 10. Write a Python program to calculate the grade based on a student's score."
   ]
  },
  {
   "cell_type": "code",
   "execution_count": 3,
   "id": "7266f453-219f-4893-91ff-0dd9a11e09ce",
   "metadata": {},
   "outputs": [
    {
     "name": "stdin",
     "output_type": "stream",
     "text": [
      "Enter the student's score:  80\n"
     ]
    },
    {
     "name": "stdout",
     "output_type": "stream",
     "text": [
      "The student's grade is: B\n"
     ]
    }
   ],
   "source": [
    "def calculate_grade(score):\n",
    "    if score>=90:\n",
    "        return 'A'\n",
    "    elif score>=80:\n",
    "        return 'B'\n",
    "    elif score>=70:\n",
    "        return 'C'\n",
    "    elif score>= 60:\n",
    "        return 'D'\n",
    "    else:\n",
    "        return 'F'\n",
    "    \n",
    "Score = float(input(\"Enter the student's score: \"));\n",
    "\n",
    "grade= calculate_grade(Score)\n",
    "              \n",
    "print(\"The student's grade is:\", grade)"
   ]
  },
  {
   "cell_type": "markdown",
   "id": "e21deaf3-88b2-4b45-b4d5-4a1d3516d8fb",
   "metadata": {},
   "source": [
    "- def calculate_grade(score): This line defines a function named calculate_grade that calculates the grade based on the student's score.\n",
    "- if score >= 90: Checks if the score is greater than or equal to 90, which corresponds to an \"A\" grade.\n",
    "- elif score >= 80: Checks if the score is greater than or equal to 80, which corresponds to a \"B\" grade.\n",
    "- elif score >= 70: Checks if the score is greater than or equal to 70, which corresponds to a \"C\" grade.\n",
    "- elif score >= 60: Checks if the score is greater than or equal to 60, which corresponds to a \"D\" grade.\n",
    "- else:mExecutes if none of the above conditions are true, which corresponds to an \"F\" grade.\n",
    "- return \"A\", return \"B\", return \"C\", return \"D\", return \"F\"\n",
    "- Returns the corresponding grade based on the condition that is true.\n",
    "- score = float(input(\"Enter the student's score: \")) Takes user input for the student's score.\n",
    "- grade = calculate_grade(score) Calls the function to calculate the grade based on the input score.\n",
    "- print(\"The student's grade is:\", grade) Prints the calculated grade."
   ]
  },
  {
   "cell_type": "markdown",
   "id": "537d5ccd-0f38-4025-8b6f-589900b467b3",
   "metadata": {},
   "source": [
    "### **Nested If-Else Statements:**"
   ]
  },
  {
   "cell_type": "markdown",
   "id": "f0754d14-17e9-41d9-9432-3a47bd2f7360",
   "metadata": {},
   "source": [
    "### 11. Write a program to find the largest among three numbers using nested if-else statements."
   ]
  },
  {
   "cell_type": "code",
   "execution_count": 2,
   "id": "b26ddab7-d2c0-4742-979e-b32a1fcfa703",
   "metadata": {},
   "outputs": [
    {
     "name": "stdin",
     "output_type": "stream",
     "text": [
      "Enter the first number:  34\n",
      "Enter the second number:  46\n",
      "Enter the third number:  56\n"
     ]
    },
    {
     "name": "stdout",
     "output_type": "stream",
     "text": [
      "The largest number is:  56.0\n"
     ]
    }
   ],
   "source": [
    "# Input : THree Numbers\n",
    "num1 = float(input(\"Enter the first number: \"))\n",
    "num2 = float(input(\"Enter the second number: \"))\n",
    "num3 = float(input(\"Enter the third number: \"))\n",
    "\n",
    "# check which number is the largest\n",
    "if num1 >= num2:\n",
    "    if (num1 >=num3):\n",
    "        largest = num1\n",
    "    else:\n",
    "        largest = num3;\n",
    "else:\n",
    "    if(num2 >=num3):\n",
    "        largest = num2\n",
    "    else:\n",
    "        largest = num3\n",
    "        \n",
    "# print the result\n",
    "print(\"The largest number is: \", largest)"
   ]
  },
  {
   "cell_type": "markdown",
   "id": "48f10c29-f0a6-4fea-888c-821394ca6ae3",
   "metadata": {},
   "source": [
    "- The program takes three numbers as input from the user.\n",
    "- It uses nested if-else statements to check which number is the largest:\n",
    "- First, it checks if num1 is greater than or equal to num2.\n",
    "- If true, it further checks if num1 is greater than or equal to num3.\n",
    "- If true, num1 is the largest.\n",
    "- If false, num3 is the largest.\n",
    "- If false, it means num2 is greater than num1, so it further checks if num2 is greater than or equal to num3.\n",
    "- If true, num2 is the largest.\n",
    "- If false, num3 is the largest.\n",
    "- The largest number is stored in the variable largest.\n",
    "- Finally, the program prints the largest number."
   ]
  },
  {
   "cell_type": "markdown",
   "id": "ab9d484d-9a65-40db-a85e-474a1e3a816d",
   "metadata": {},
   "source": [
    "### 12. Implement a program to determine if a triangle is equilateral, isosceles, or scalene."
   ]
  },
  {
   "cell_type": "code",
   "execution_count": 3,
   "id": "9a043cc0-3a39-4359-8778-adbbf61edb9f",
   "metadata": {},
   "outputs": [
    {
     "name": "stdin",
     "output_type": "stream",
     "text": [
      "Enter the length of the first side:  56\n",
      "Enter the length of the second side:  78\n",
      "Enter the length of the third side:  56\n"
     ]
    },
    {
     "name": "stdout",
     "output_type": "stream",
     "text": [
      "The triangle is isosceles.\n"
     ]
    }
   ],
   "source": [
    "# Input: Lengths of the sides of the triangle\n",
    "side1 = float(input(\"Enter the length of the first side: \"))\n",
    "side2 = float(input(\"Enter the length of the second side: \"))\n",
    "side3 = float(input(\"Enter the length of the third side: \"))\n",
    "\n",
    "# Check if the triangle is valid\n",
    "if side1 + side2 > side3 and side1 + side3 > side2 and side2 + side3 > side1:\n",
    "    # Check the type of triangle\n",
    "    if side1 == side2 == side3:\n",
    "        print(\"The triangle is equilateral.\")\n",
    "    elif side1 == side2 or side1 == side3 or side2 == side3:\n",
    "        print(\"The triangle is isosceles.\")\n",
    "    else:\n",
    "        print(\"The triangle is scalene.\")\n",
    "else:\n",
    "    print(\"Invalid triangle. The sum of the lengths of any two sides must be greater than the length of the third side.\")"
   ]
  },
  {
   "cell_type": "markdown",
   "id": "8dfedba5-e20f-4e97-9b5c-6d08fff30797",
   "metadata": {},
   "source": [
    "- The program takes the lengths of the sides of the triangle as input from the user.\n",
    "- It first checks if the triangle is valid. For a triangle to be valid, the sum of the lengths of any two sides must be greater than the length of the third side. If this condition is not met, the program prints an error message and terminates.\n",
    "- If the triangle is valid, the program checks the type of triangle:\n",
    "- If all three sides are equal, the triangle is equilateral.\n",
    "- If two sides are equal, the triangle is isosceles.\n",
    "- If all three sides are different, the triangle is scalene.\n",
    "- The program prints the type of triangle based on the above conditions."
   ]
  },
  {
   "cell_type": "markdown",
   "id": "1828f0f4-7007-42dd-a21e-ec5497fc25ad",
   "metadata": {},
   "source": [
    "### 13. Develop a program that checks if a year is a leap year and also if it is a century year."
   ]
  },
  {
   "cell_type": "code",
   "execution_count": 14,
   "id": "378d1e1a-ce98-4aae-9c51-85f05d589c61",
   "metadata": {},
   "outputs": [
    {
     "name": "stdin",
     "output_type": "stream",
     "text": [
      "Enter the year:  2024\n"
     ]
    },
    {
     "name": "stdout",
     "output_type": "stream",
     "text": [
      "2024 is a leap year.\n"
     ]
    }
   ],
   "source": [
    "# Function to check if a year is a leap year\n",
    "def is_leap_year(year):\n",
    "    if (year % 4 == 0 and year % 100 !=0) or (year % 400 == 0):\n",
    "        return True;\n",
    "    else:\n",
    "        return false;\n",
    "    \n",
    "    # Input : year\n",
    "year = int(input(\"Enter the year: \"))\n",
    "    \n",
    "    # check if the year is a leap year\n",
    "if is_leap_year(year):\n",
    "    print(year, \"is a leap year.\");\n",
    "else:\n",
    "    print(year,\"is not a leap year.\")"
   ]
  },
  {
   "cell_type": "markdown",
   "id": "a6b90568-26df-4f26-bd88-afcddb608db0",
   "metadata": {},
   "source": [
    "- year = int(input(\"Enter a year: \")) Takes user input for the year.\n",
    "- is_leap_year = (year % 4 == 0 and year % 100 != 0) or (year % 400 == 0) Checks if the year is a leap year using the leap year rules:\n",
    "- If the year is divisible by 4 and not divisible by 100, or If the year is divisible by 400.\n",
    "- is_century_year = year % 100 == 0 Checks if the year is a century year by checking if it is divisible by 100.\n",
    "- The program then prints whether the year is a leap year and whether it is a century year based on the calculated values of is_leap_year and is_century_year."
   ]
  },
  {
   "cell_type": "markdown",
   "id": "7ef52a89-a8ef-4b04-92ee-85c0cdea1f0b",
   "metadata": {},
   "source": [
    "### 14. Write a Python script to determine if a number is positive, negative, or zero"
   ]
  },
  {
   "cell_type": "code",
   "execution_count": 21,
   "id": "361ce61e-effc-4c10-9007-db14cba24af6",
   "metadata": {},
   "outputs": [
    {
     "name": "stdin",
     "output_type": "stream",
     "text": [
      "Enter the Number :  9\n"
     ]
    },
    {
     "name": "stdout",
     "output_type": "stream",
     "text": [
      "The Number is Positive.\n"
     ]
    }
   ],
   "source": [
    "# Input : Number\n",
    "\n",
    "Number = float(input(\"Enter the Number : \"))\n",
    "\n",
    "# Check if the number is positive, negative, or zero\n",
    "if Number > 0:\n",
    "    print(\"The Number is Positive.\")\n",
    "elif Number < 0:\n",
    "    print(\"The Number is Negative.\")\n",
    "else:\n",
    "    print(\"The Number is Zero.\")"
   ]
  },
  {
   "cell_type": "markdown",
   "id": "a7a88c04-73a8-4cd9-901c-ae6b260c5bf3",
   "metadata": {},
   "source": [
    "- number = float(input(\"Enter a number: \")) Takes user input for the number.\n",
    "- if number > 0: Checks if the number is greater than 0, indicating that it is positive.\n",
    "- elif number < 0: Checks if the number is less than 0, indicating that it is negative.\n",
    "- else: Executes if the number is neither greater than nor less than 0, indicating that it is zero.\n",
    "- The program then prints whether the number is positive, negative, or zero based on the above conditions."
   ]
  },
  {
   "cell_type": "markdown",
   "id": "9f1f41a9-1875-4c3c-a8f9-55bd10d073bf",
   "metadata": {},
   "source": [
    "### 15. Create a program to check if a person is a teenager (between 13 and 19 years old)."
   ]
  },
  {
   "cell_type": "code",
   "execution_count": 23,
   "id": "7e15370d-88c1-4bff-a41d-6e12af8ec8bf",
   "metadata": {},
   "outputs": [
    {
     "name": "stdin",
     "output_type": "stream",
     "text": [
      "Enter your age:  16\n"
     ]
    },
    {
     "name": "stdout",
     "output_type": "stream",
     "text": [
      "You are a teenager.\n"
     ]
    }
   ],
   "source": [
    "# Input: Age\n",
    "age = int(input(\"Enter your age: \"))\n",
    "\n",
    "# Check if the person is a teenager\n",
    "if age >= 13 and age <= 19:\n",
    "    print(\"You are a teenager.\")\n",
    "else:\n",
    "    print(\"You are not a teenager.\")"
   ]
  },
  {
   "cell_type": "markdown",
   "id": "0f4cd21e-5047-4911-b810-e8e3f920e7fb",
   "metadata": {},
   "source": [
    "- age = int(input(\"Enter your age: \")) Takes user input for the age.\n",
    "- if age >= 13 and age <= 19: Checks if the age is between 13 and 19 (inclusive), indicating that the person is a teenager.\n",
    "- print(\"You are a teenager.\") Prints a message indicating that the person is a teenager if the condition is true.\n",
    "- else: Executes if the age is not between 13 and 19.\n",
    "- print(\"You are not a teenager.\") Prints a message indicating that the person is not a teenager if the condition is false."
   ]
  },
  {
   "cell_type": "markdown",
   "id": "e8e69995-6c1a-4ee6-81b5-f50d5ec2bf76",
   "metadata": {},
   "source": [
    "### 16. Develop a program that determines the type of angle based on its measure (acute, obtuse, or right)."
   ]
  },
  {
   "cell_type": "code",
   "execution_count": 1,
   "id": "b148fcfe-a0d7-4ff2-9494-42a76245faa9",
   "metadata": {},
   "outputs": [
    {
     "name": "stdin",
     "output_type": "stream",
     "text": [
      "Enter the angle measure in degrees:  89\n"
     ]
    },
    {
     "name": "stdout",
     "output_type": "stream",
     "text": [
      "angle is obtuse\n"
     ]
    }
   ],
   "source": [
    "# Input : Angle\n",
    "angle = float(input(\"Enter the angle measure in degrees: \"))\n",
    "\n",
    "if(angle > 90):\n",
    "    print(\"angle is acute.\")\n",
    "elif(angle==90):\n",
    "    print(\"angle is right.\")\n",
    "else:\n",
    "    print(\"angle is obtuse\")"
   ]
  },
  {
   "cell_type": "markdown",
   "id": "22a2bb02-9250-45a2-b5b0-8ebd7c68eaa5",
   "metadata": {},
   "source": [
    "- angle = float(input(\"Enter the angle measure in degrees: \")) Takes user input for the angle measure.\n",
    "- if angle < 90: Checks if the angle measure is less than 90 degrees, indicating an acute angle.\n",
    "- elif angle == 90: Checks if the angle measure is exactly 90 degrees, indicating a right angle.\n",
    "- else: Executes if the angle measure is greater than 90 degrees, indicating an obtuse angle.\n",
    "- The program then prints the type of angle based on the above conditions."
   ]
  },
  {
   "cell_type": "markdown",
   "id": "9dac3c08-61d2-4166-9e03-1380edf7db49",
   "metadata": {},
   "source": [
    "### 17. Write a Python program to calculate the roots of a quadratic equation."
   ]
  },
  {
   "cell_type": "code",
   "execution_count": 2,
   "id": "b8e7d6fa-206a-457b-a967-e667ddcc4df9",
   "metadata": {},
   "outputs": [
    {
     "name": "stdin",
     "output_type": "stream",
     "text": [
      "Enter the coefficient a:  45\n",
      "Enter the coefficient b:  34\n",
      "Enter the coefficient c:  56\n"
     ]
    },
    {
     "name": "stdout",
     "output_type": "stream",
     "text": [
      "The roots are complex and different.\n",
      "Root 1 = -0.37777777777777777 + 1.0496325047661816 i\n",
      "Root 2 = -0.37777777777777777 - 1.0496325047661816 i\n"
     ]
    }
   ],
   "source": [
    "import math\n",
    "\n",
    "# Input: Coefficients a, b, c\n",
    "a = float(input(\"Enter the coefficient a: \"))\n",
    "b = float(input(\"Enter the coefficient b: \"))\n",
    "c = float(input(\"Enter the coefficient c: \"))\n",
    "\n",
    "# Calculate the discriminant\n",
    "discriminant = b**2 - 4*a*c\n",
    "\n",
    "# Check the nature of the roots\n",
    "if discriminant > 0:\n",
    "    root1 = (-b + math.sqrt(discriminant)) / (2*a)\n",
    "    root2 = (-b - math.sqrt(discriminant)) / (2*a)\n",
    "    print(\"The roots are real and different.\")\n",
    "    print(\"Root 1 =\", root1)\n",
    "    print(\"Root 2 =\", root2)\n",
    "elif discriminant == 0:\n",
    "    root = -b / (2*a)\n",
    "    print(\"The roots are real and equal.\")\n",
    "    print(\"Root 1 = Root 2 =\", root)\n",
    "else:\n",
    "    real_part = -b / (2*a)\n",
    "    imaginary_part = math.sqrt(abs(discriminant)) / (2*a)\n",
    "    print(\"The roots are complex and different.\")\n",
    "    print(\"Root 1 =\", real_part, \"+\", imaginary_part, \"i\")\n",
    "    print(\"Root 2 =\", real_part, \"-\", imaginary_part, \"i\")"
   ]
  },
  {
   "cell_type": "markdown",
   "id": "65685a8d-6239-4f35-ad9a-a829e9e28f84",
   "metadata": {},
   "source": [
    "- import math Imports the math module to use the sqrt function for calculating square roots.\n",
    "- a = float(input(\"Enter the coefficient a: \")), b = float(input(\"Enter the coefficient b: \")), c = float(input(\"Enter the coefficient c: \"))\n",
    "- Takes user input for the coefficients of the quadratic equation.\n",
    "- discriminant = b**2 - 4*a*c Calculates the discriminant of the quadratic equation.\n",
    "- The program then checks the nature of the roots based on the value of the discriminant: If the discriminant is greater than 0, the roots are real and different.\n",
    "- If the discriminant is equal to 0, the roots are real and equal.\n",
    "- If the discriminant is less than 0, the roots are complex and different.\n",
    "- Depending on the nature of the roots, the program calculates and prints the roots accordingly."
   ]
  },
  {
   "cell_type": "markdown",
   "id": "ac59ec1c-046b-40c9-aa0b-bf8f7cc8bfea",
   "metadata": {},
   "source": [
    "### 18. Implement a program to determine the day of the week based on a user-provided number (1 for Monday, 2 for Tuesday, etc.)."
   ]
  },
  {
   "cell_type": "code",
   "execution_count": 4,
   "id": "c4566236-3284-48a3-839a-643ab925f4b7",
   "metadata": {},
   "outputs": [
    {
     "name": "stdin",
     "output_type": "stream",
     "text": [
      "Enter a number (1-7) for the day of the week:  4\n"
     ]
    },
    {
     "name": "stdout",
     "output_type": "stream",
     "text": [
      "The day of the week is: Thursday\n"
     ]
    }
   ],
   "source": [
    "# Input: Day number\n",
    "day_number = int(input(\"Enter a number (1-7) for the day of the week: \"))\n",
    "\n",
    "# Define a list of days\n",
    "days = [\"Monday\", \"Tuesday\", \"Wednesday\", \"Thursday\", \"Friday\", \"Saturday\", \"Sunday\"]\n",
    "\n",
    "# Check if the input is valid\n",
    "if day_number >= 1 and day_number <= 7:\n",
    "    # Determine the day of the week\n",
    "    day_of_week = days[day_number - 1]\n",
    "    print(\"The day of the week is:\", day_of_week)\n",
    "else:\n",
    "    print(\"Invalid input. Please enter a number between 1 and 7.\")"
   ]
  },
  {
   "cell_type": "markdown",
   "id": "315d127b-cf5a-443c-84b8-cdc73fcb175c",
   "metadata": {},
   "source": [
    "- day_number = int(input(\"Enter a number (1-7) for the day of the week: \")) Takes user input for the day number.\n",
    "- days = [\"Monday\", \"Tuesday\", \"Wednesday\", \"Thursday\", \"Friday\", \"Saturday\", \"Sunday\"] Defines a list of days of the week.\n",
    "- if day_number >= 1 and day_number <= 7: Checks if the input is a valid day number (between 1 and 7).\n",
    "- day_of_week = days[day_number - 1] Retrieves the day of the week from the days list based on the input number.\n",
    "- The program then prints the day of the week."
   ]
  },
  {
   "cell_type": "markdown",
   "id": "687ca49b-8caa-4ada-b64b-2cd51f598367",
   "metadata": {},
   "source": [
    "### 19. Create a program that determines if a year is a leap year and also if it is evenly divisible by 400."
   ]
  },
  {
   "cell_type": "code",
   "execution_count": 5,
   "id": "0a206b51-a94b-42ce-8ace-8c71e6a5cfe7",
   "metadata": {},
   "outputs": [
    {
     "name": "stdin",
     "output_type": "stream",
     "text": [
      "Enter a year:  800\n"
     ]
    },
    {
     "name": "stdout",
     "output_type": "stream",
     "text": [
      "800 is a leap year.\n",
      "800 is evenly divisible by 400.\n"
     ]
    }
   ],
   "source": [
    "# Input: Year\n",
    "year = int(input(\"Enter a year: \"))\n",
    "\n",
    "# Check if the year is a leap year\n",
    "is_leap_year = (year % 4 == 0 and year % 100 != 0) or (year % 400 == 0)\n",
    "\n",
    "# Check if the year is evenly divisible by 400\n",
    "divisible_by_400 = year % 400 == 0\n",
    "\n",
    "# Print the result\n",
    "if is_leap_year:\n",
    "    print(year, \"is a leap year.\")\n",
    "else:\n",
    "    print(year, \"is not a leap year.\")\n",
    "\n",
    "if divisible_by_400:\n",
    "    print(year, \"is evenly divisible by 400.\")\n",
    "else:\n",
    "    print(year, \"is not evenly divisible by 400.\")"
   ]
  },
  {
   "cell_type": "markdown",
   "id": "25730372-2b72-4401-a67e-5bd3bafad7be",
   "metadata": {},
   "source": [
    "- year = int(input(\"Enter a year: \")) Takes user input for the year.\n",
    "- is_leap_year = (year % 4 == 0 and year % 100 != 0) or (year % 400 == 0) Checks if the year is a leap year using the leap year rules:\n",
    "- If the year is divisible by 4 and not divisible by 100, or\n",
    "- If the year is divisible by 400.\n",
    "- divisible_by_400 = year % 400 == 0 Checks if the year is evenly divisible by 400.\n",
    "- The program then prints whether the year is a leap year and whether it is evenly divisible by 400 based on the calculated values of is_leap_year and divisible_by_400."
   ]
  },
  {
   "cell_type": "markdown",
   "id": "b11006be-286c-484c-ba0e-523feb130b0e",
   "metadata": {},
   "source": [
    "### 20. Develop a program that checks if a given number is prime or not using nested if-else statements."
   ]
  },
  {
   "cell_type": "code",
   "execution_count": 7,
   "id": "d6ab82b8-739d-41c0-a05b-12a32786f145",
   "metadata": {},
   "outputs": [
    {
     "name": "stdin",
     "output_type": "stream",
     "text": [
      "Enter a number:  11\n"
     ]
    },
    {
     "name": "stdout",
     "output_type": "stream",
     "text": [
      "11 is a prime number.\n"
     ]
    }
   ],
   "source": [
    "# Input: Number\n",
    "num = int(input(\"Enter a number: \"))\n",
    "\n",
    "# Check if the number is greater than 1\n",
    "if num > 1:\n",
    "    # Check for factors\n",
    "    for i in range(2, int(num**0.5) + 1):\n",
    "        if (num % i) == 0:\n",
    "            print(num, \"is not a prime number.\")\n",
    "            print(i, \"times\", num//i, \"is\", num)\n",
    "            break\n",
    "    else:\n",
    "        print(num, \"is a prime number.\")\n",
    "else:\n",
    "    print(num, \"is not a prime number.\")"
   ]
  },
  {
   "cell_type": "markdown",
   "id": "bec4e441-ec59-4e9a-8d9b-96eaae7cbe1a",
   "metadata": {},
   "source": [
    "- num = int(input(\"Enter a number: \")) Takes user input for the number.\n",
    "- if num > 1: Checks if the number is greater than 1, as prime numbers are greater than 1.\n",
    "- for i in range(2, int(num**0.5) + 1): Iterates through numbers from 2 to the square root of the given number (inclusive).\n",
    "- if (num % i) == 0: Checks if the given number is divisible by any number in the range.\n",
    "- If the remainder is 0, the number is not prime, as it has factors other than 1 and itself.\n",
    "- print(i, \"times\", num//i, \"is\", num) Prints the factors of the given number.\n",
    "- else: Executes if the loop completes without finding a factor, indicating that the number is prime.\n",
    "- The program then prints whether the given number is prime or not."
   ]
  },
  {
   "cell_type": "markdown",
   "id": "443073f7-d9bc-4bdb-824e-1b854b7c9392",
   "metadata": {},
   "source": [
    "### **Elif Statements**"
   ]
  },
  {
   "cell_type": "markdown",
   "id": "7213f76f-7665-4adc-ae4d-c9f2d9309271",
   "metadata": {},
   "source": [
    "### 21. Write a Python program to assign grades based on different ranges of scores using elif statements."
   ]
  },
  {
   "cell_type": "code",
   "execution_count": 8,
   "id": "ba6aa608-2675-4b88-b33d-db577258c8cd",
   "metadata": {},
   "outputs": [
    {
     "name": "stdin",
     "output_type": "stream",
     "text": [
      "Enter the student's score:  56\n"
     ]
    },
    {
     "name": "stdout",
     "output_type": "stream",
     "text": [
      "The student's grade is: F\n"
     ]
    }
   ],
   "source": [
    "# Input: Score\n",
    "score = float(input(\"Enter the student's score: \"))\n",
    "\n",
    "# Assign grades based on score ranges\n",
    "if score >= 90:\n",
    "    grade = 'A'\n",
    "elif score >= 80:\n",
    "    grade = 'B'\n",
    "elif score >= 70:\n",
    "    grade = 'C'\n",
    "elif score >= 60:\n",
    "    grade = 'D'\n",
    "else:\n",
    "    grade = 'F'\n",
    "\n",
    "# Print the grade\n",
    "print(\"The student's grade is:\", grade)"
   ]
  },
  {
   "cell_type": "markdown",
   "id": "cedb276d-2c88-4904-9c45-b538be5a903a",
   "metadata": {},
   "source": [
    "- score = float(input(\"Enter the student's score: \")) Takes user input for the student's score.\n",
    "- The program uses elif statements to check the score against different ranges and assigns the corresponding grade:\n",
    "- If the score is greater than or equal to 90, the grade is 'A'.\n",
    "- If the score is between 80 and 89, the grade is 'B'.\n",
    "- If the score is between 70 and 79, the grade is 'C'.\n",
    "- If the score is between 60 and 69, the grade is 'D'.\n",
    "- If the score is below 60, the grade is 'F'.\n",
    "- The program then prints the grade assigned to the student based on the score."
   ]
  },
  {
   "cell_type": "markdown",
   "id": "ee9955da-f7cb-4a7f-8221-b2357abe609f",
   "metadata": {},
   "source": [
    "### 22. Implement a program to determine the type of a triangle based on its angles."
   ]
  },
  {
   "cell_type": "code",
   "execution_count": 4,
   "id": "7a0163b7-466b-4987-a9d1-18c521ff46d9",
   "metadata": {},
   "outputs": [
    {
     "name": "stdin",
     "output_type": "stream",
     "text": [
      "Enter the first angle of the triangle:  60\n",
      "Enter the second angle of the triangle:  60\n",
      "Enter the third angle of the triangle:  60\n"
     ]
    },
    {
     "name": "stdout",
     "output_type": "stream",
     "text": [
      "The triangle is an acute-angled triangle.\n"
     ]
    }
   ],
   "source": [
    "# Input: Angles of the triangle\n",
    "angle1 = int(input(\"Enter the first angle of the triangle: \"))\n",
    "angle2 = int(input(\"Enter the second angle of the triangle: \"))\n",
    "angle3 = int(input(\"Enter the third angle of the triangle: \"))\n",
    "\n",
    "# Check the type of triangle based on angles\n",
    "if angle1 + angle2 + angle3 == 180:\n",
    "    if angle1 == 90 or angle2 == 90 or angle3 == 90:\n",
    "        print(\"The triangle is a right-angled triangle.\")\n",
    "    elif angle1 < 90 and angle2 < 90 and angle3 < 90:\n",
    "        print(\"The triangle is an acute-angled triangle.\")\n",
    "    else:\n",
    "        print(\"The triangle is an obtuse-angled triangle.\")\n",
    "else:\n",
    "    print(\"Invalid triangle. The sum of the angles of a triangle must be 180 degrees.\")"
   ]
  },
  {
   "cell_type": "markdown",
   "id": "dc2829b4-4d0a-4a01-9841-5e714d06eb13",
   "metadata": {},
   "source": [
    "- angle1 = int(input(\"Enter the first angle of the triangle: \")), angle2 = int(input(\"Enter the second angle of the triangle: \")), angle3 = int(input(\"Enter the third angle of the triangle: \")) Takes user input for the three angles of the triangle.\n",
    "- The program first checks if the sum of the angles is equal to 180 degrees, as this is a property of triangles. If the sum is not 180 degrees, the program prints an error message.\n",
    "- If the sum is 180 degrees, the program checks the type of triangle based on its angles:\n",
    "- If any angle is 90 degrees, the triangle is a right-angled triangle.\n",
    "- If all angles are less than 90 degrees, the triangle is an acute-angled triangle.\n",
    "- If any angle is greater than 90 degrees, the triangle is an obtuse-angled triangle.\n",
    "- The program then prints the type of triangle based on the above conditions."
   ]
  },
  {
   "cell_type": "markdown",
   "id": "d2b7bcf2-9a68-43d4-9d9f-00285c721e38",
   "metadata": {},
   "source": [
    "### 23. Develop a program to categorize a given person's BMI into underweight, normal, overweight, or obese using elif statements."
   ]
  },
  {
   "cell_type": "code",
   "execution_count": 6,
   "id": "4a4ec2a4-38cb-45ff-831c-22c0a97004d5",
   "metadata": {},
   "outputs": [
    {
     "name": "stdin",
     "output_type": "stream",
     "text": [
      "Enter your weight in kilograms:  70\n",
      "Enter your height in meters:  172\n"
     ]
    },
    {
     "name": "stdout",
     "output_type": "stream",
     "text": [
      "Your BMI is: 0.002366143861546782\n",
      "You are underweight\n"
     ]
    }
   ],
   "source": [
    "# Input: Weight (in kilograms) and Height (in meters)\n",
    "weight = float(input(\"Enter your weight in kilograms: \"))\n",
    "height = float(input(\"Enter your height in meters: \"))\n",
    "\n",
    "# Calculate BMI\n",
    "bmi = weight / (height ** 2)\n",
    "\n",
    "# Categorize BMI\n",
    "if bmi < 18.5:\n",
    "    category = \"underweight\"\n",
    "elif bmi < 25:\n",
    "    category = \"normal\"\n",
    "elif bmi < 30:\n",
    "    category = \"overweight\"\n",
    "else:\n",
    "    category = \"obese\"\n",
    "\n",
    "# Print the BMI category\n",
    "print(\"Your BMI is:\", bmi)\n",
    "print(\"You are\", category)"
   ]
  },
  {
   "cell_type": "markdown",
   "id": "beea3825-90f5-4728-ae5d-6a57a3388d04",
   "metadata": {},
   "source": [
    "- weight = float(input(\"Enter your weight in kilograms: \")), height = float(input(\"Enter your height in meters: \")) Takes user input for weight (in kilograms) and height (in meters).\n",
    "- bmi = weight / (height ** 2) Calculates the BMI using the formula: BMI = weight / (height^2).\n",
    "- The program then uses elif statements to categorize the BMI:\n",
    "- If the BMI is less than 18.5, the person is classified as \"underweight\".\n",
    "- If the BMI is between 18.5 and 24.9, the person is classified as \"normal\".\n",
    "- If the BMI is between 25 and 29.9, the person is classified as \"overweight\".\n",
    "- If the BMI is 30 or greater, the person is classified as \"obese\".\n",
    "- The program then prints the calculated BMI and the category the person falls into."
   ]
  },
  {
   "cell_type": "markdown",
   "id": "cd22517c-9d09-42d4-a3a5-eadcbc7621fc",
   "metadata": {},
   "source": [
    "### 25. Write a Python script to determine the type of a character (uppercase, lowercase, or special) using elif statements."
   ]
  },
  {
   "cell_type": "code",
   "execution_count": 7,
   "id": "27d9f53d-bd71-4b9e-9cc4-b12515f5ee25",
   "metadata": {},
   "outputs": [
    {
     "name": "stdin",
     "output_type": "stream",
     "text": [
      "Enter a character:  Rajan\n"
     ]
    },
    {
     "name": "stdout",
     "output_type": "stream",
     "text": [
      "The character is a special character.\n"
     ]
    }
   ],
   "source": [
    "# Input: Character\n",
    "char = input(\"Enter a character: \")\n",
    "\n",
    "# Check the type of character\n",
    "if char.isupper():\n",
    "    print(\"The character is uppercase.\")\n",
    "elif char.islower():\n",
    "    print(\"The character is lowercase.\")\n",
    "else:\n",
    "    print(\"The character is a special character.\")"
   ]
  },
  {
   "cell_type": "markdown",
   "id": "a163eda4-0c0b-41ec-aa2f-fae967e5f1e2",
   "metadata": {},
   "source": [
    "- char = input(\"Enter a character: \") Takes user input for a character.\n",
    "- The program uses elif statements to check the type of character: If the character is uppercase (char.isupper()), it prints \"The character is uppercase.\"\n",
    "- If the character is lowercase (char.islower()), it prints \"The character is lowercase.\"\n",
    "- If the character is neither uppercase nor lowercase, it is considered a special character, and it prints \"The character is a special character.\""
   ]
  },
  {
   "cell_type": "markdown",
   "id": "6418bc53-c04d-4dfa-9e5d-c8d2eef5c306",
   "metadata": {},
   "source": [
    "### 26. Implement a program to calculate the discounted price based on different purchase amounts using elif statements."
   ]
  },
  {
   "cell_type": "code",
   "execution_count": 8,
   "id": "3bb07314-ebc3-4659-97e9-cbd6a9f07fae",
   "metadata": {},
   "outputs": [
    {
     "name": "stdin",
     "output_type": "stream",
     "text": [
      "Enter the purchase amount:  800\n"
     ]
    },
    {
     "name": "stdout",
     "output_type": "stream",
     "text": [
      "Purchase amount: 800.0\n",
      "Discounted price: 760.0\n"
     ]
    }
   ],
   "source": [
    "# Input: Purchase amount\n",
    "purchase_amount = float(input(\"Enter the purchase amount: \"))\n",
    "\n",
    "# Calculate discounted price\n",
    "if purchase_amount >= 1000:\n",
    "    discount_rate = 0.1\n",
    "elif purchase_amount >= 500:\n",
    "    discount_rate = 0.05\n",
    "elif purchase_amount >= 200:\n",
    "    discount_rate = 0.02\n",
    "else:\n",
    "    discount_rate = 0\n",
    "\n",
    "discounted_price = purchase_amount - (purchase_amount * discount_rate)\n",
    "\n",
    "# Print the discounted price\n",
    "print(\"Purchase amount:\", purchase_amount)\n",
    "print(\"Discounted price:\", discounted_price)"
   ]
  },
  {
   "cell_type": "markdown",
   "id": "32654db5-70b2-470b-a9b2-37b333bef54c",
   "metadata": {},
   "source": [
    "- purchase_amount = float(input(\"Enter the purchase amount: \")) Takes user input for the purchase amount.\n",
    "- The program uses elif statements to determine the discount rate based on the purchase amount:\n",
    "- If the purchase amount is greater than or equal to 1000, the discount rate is 10%.\n",
    "- If the purchase amount is between 500 and 999.99, the discount rate is 5%.\n",
    "- If the purchase amount is between 200 and 499.99, the discount rate is 2%.\n",
    "- If the purchase amount is less than 200, there is no discount (discount_rate = 0).\n",
    "- The discounted price is calculated as the purchase amount minus the purchase amount multiplied by the discount rate.\n",
    "- The program then prints the original purchase amount and the discounted price."
   ]
  },
  {
   "cell_type": "markdown",
   "id": "3e1f3e40-4962-4510-ab29-50e80e6c3551",
   "metadata": {},
   "source": [
    "### 27. Develop a program to calculate the electricity bill based on different consumption slabs using elif statements."
   ]
  },
  {
   "cell_type": "code",
   "execution_count": 9,
   "id": "3cef4cab-eb77-4999-8296-d72394e75531",
   "metadata": {},
   "outputs": [
    {
     "name": "stdin",
     "output_type": "stream",
     "text": [
      "Enter the electricity consumption in kilowatt-hours:  89\n"
     ]
    },
    {
     "name": "stdout",
     "output_type": "stream",
     "text": [
      "Electricity consumption: 89.0 kWh\n",
      "Electricity bill: $44.50\n"
     ]
    }
   ],
   "source": [
    "# Input: Electricity consumption in kilowatt-hours\n",
    "consumption = float(input(\"Enter the electricity consumption in kilowatt-hours: \"))\n",
    "\n",
    "# Electricity rates for different consumption slabs\n",
    "rate_slab1 = 0.5  # $0.50 per kWh for the first 100 kWh\n",
    "rate_slab2 = 0.75  # $0.75 per kWh for the next 200 kWh\n",
    "rate_slab3 = 1.0   # $1.00 per kWh for the remaining kWh\n",
    "\n",
    "# Calculate the bill based on consumption slabs\n",
    "if consumption <= 100:\n",
    "    bill = consumption * rate_slab1\n",
    "elif consumption <= 300:\n",
    "    bill = 100 * rate_slab1 + (consumption - 100) * rate_slab2\n",
    "else:\n",
    "    bill = 100 * rate_slab1 + 200 * rate_slab2 + (consumption - 300) * rate_slab3\n",
    "\n",
    "# Print the electricity bill\n",
    "print(\"Electricity consumption:\", consumption, \"kWh\")\n",
    "print(\"Electricity bill: $\", format(bill, \".2f\"), sep=\"\")"
   ]
  },
  {
   "cell_type": "markdown",
   "id": "2865b3f1-dbba-43ad-895b-d5905041beca",
   "metadata": {},
   "source": [
    "- consumption = float(input(\"Enter the electricity consumption in kilowatt-hours: \")) Takes user input for the electricity consumption in kilowatt-hours.\n",
    "- The program uses elif statements to calculate the electricity bill based on different consumption slabs:\n",
    "- If the consumption is 100 kWh or less, the bill is calculated by multiplying the consumption by the rate for the first slab (rate_slab1).\n",
    "- If the consumption is between 101 kWh and 300 kWh, the bill is calculated as the sum of the bill for the first 100 kWh plus the remaining consumption multiplied by the rate for the second slab (rate_slab2).\n",
    "- If the consumption is more than 300 kWh, the bill is calculated as the sum of the bill for the first 300 kWh plus the remaining consumption multiplied by the rate for the third slab (rate_slab3).\n",
    "- The program then prints the electricity consumption and the calculated electricity bill."
   ]
  },
  {
   "cell_type": "markdown",
   "id": "5f1e805c-0f79-4923-8204-caa0b3d56113",
   "metadata": {},
   "source": [
    "### 28. Create a program to determine the type of quadrilateral based on its angles and sides using elif statements."
   ]
  },
  {
   "cell_type": "code",
   "execution_count": 10,
   "id": "11092a19-1636-4bbd-bc5e-5489a363c873",
   "metadata": {},
   "outputs": [
    {
     "name": "stdin",
     "output_type": "stream",
     "text": [
      "Enter the first angle of the quadrilateral:  45\n",
      "Enter the second angle of the quadrilateral:  60\n",
      "Enter the third angle of the quadrilateral:  80\n",
      "Enter the fourth angle of the quadrilateral:  90\n",
      "Enter the length of side 1:  25\n",
      "Enter the length of side 2:  60\n",
      "Enter the length of side 3:  35\n",
      "Enter the length of side 4:  45\n"
     ]
    },
    {
     "name": "stdout",
     "output_type": "stream",
     "text": [
      "The quadrilateral is a general quadrilateral.\n"
     ]
    }
   ],
   "source": [
    "# Input: Angles and sides of the quadrilateral\n",
    "angle1 = int(input(\"Enter the first angle of the quadrilateral: \"))\n",
    "angle2 = int(input(\"Enter the second angle of the quadrilateral: \"))\n",
    "angle3 = int(input(\"Enter the third angle of the quadrilateral: \"))\n",
    "angle4 = int(input(\"Enter the fourth angle of the quadrilateral: \"))\n",
    "\n",
    "side1 = int(input(\"Enter the length of side 1: \"))\n",
    "side2 = int(input(\"Enter the length of side 2: \"))\n",
    "side3 = int(input(\"Enter the length of side 3: \"))\n",
    "side4 = int(input(\"Enter the length of side 4: \"))\n",
    "\n",
    "# Check the type of quadrilateral based on angles and sides\n",
    "if angle1 == angle2 == angle3 == angle4 == 90:\n",
    "    print(\"The quadrilateral is a rectangle.\")\n",
    "elif angle1 == angle3 and angle2 == angle4:\n",
    "    print(\"The quadrilateral is a parallelogram.\")\n",
    "elif side1 == side2 == side3 == side4:\n",
    "    print(\"The quadrilateral is a rhombus.\")\n",
    "elif angle1 + angle2 + angle3 + angle4 == 360:\n",
    "    print(\"The quadrilateral is a cyclic quadrilateral.\")\n",
    "else:\n",
    "    print(\"The quadrilateral is a general quadrilateral.\")"
   ]
  },
  {
   "cell_type": "markdown",
   "id": "c06123e9-3144-4534-8f4b-2b62db2d0d18",
   "metadata": {},
   "source": [
    "- The program takes user input for the angles and sides of the quadrilateral.\n",
    "- The program uses elif statements to check the type of quadrilateral based on its angles and sides:\n",
    "- If all angles are 90 degrees, the quadrilateral is a rectangle.\n",
    "- If opposite angles are equal, the quadrilateral is a parallelogram.\n",
    "- If all sides are equal, the quadrilateral is a rhombus.\n",
    "- If the sum of all angles is 360 degrees, the quadrilateral is a cyclic quadrilateral (a quadrilateral inscribed in a circle).\n",
    "- If none of the above conditions are met, the quadrilateral is a general quadrilateral.\n",
    "- The program then prints the type of quadrilateral."
   ]
  },
  {
   "cell_type": "markdown",
   "id": "78b3a12a-7cb3-450a-b929-f3d66f4e31f8",
   "metadata": {},
   "source": [
    "### 29. Write a Python script to determine the season based on a user-provided month using elif statements."
   ]
  },
  {
   "cell_type": "code",
   "execution_count": 11,
   "id": "704c7ad7-e5f1-4b4c-b5b1-cf7cbb60daa3",
   "metadata": {},
   "outputs": [
    {
     "name": "stdin",
     "output_type": "stream",
     "text": [
      "Enter the month (e.g., January, February, etc.):  July\n"
     ]
    },
    {
     "name": "stdout",
     "output_type": "stream",
     "text": [
      "The season for July is summer.\n"
     ]
    }
   ],
   "source": [
    "# Input: Month\n",
    "month = input(\"Enter the month (e.g., January, February, etc.): \")\n",
    "\n",
    "# Convert month to lowercase for case-insensitive comparison\n",
    "month = month.lower()\n",
    "\n",
    "# Determine the season based on the month\n",
    "if month in [\"december\", \"january\", \"february\"]:\n",
    "    season = \"winter\"\n",
    "elif month in [\"march\", \"april\", \"may\"]:\n",
    "    season = \"spring\"\n",
    "elif month in [\"june\", \"july\", \"august\"]:\n",
    "    season = \"summer\"\n",
    "elif month in [\"september\", \"october\", \"november\"]:\n",
    "    season = \"fall\"\n",
    "else:\n",
    "    season = \"not a valid month\"\n",
    "\n",
    "# Print the season\n",
    "print(f\"The season for {month.capitalize()} is {season}.\")"
   ]
  },
  {
   "cell_type": "markdown",
   "id": "77625589-fd4f-48c4-b4fa-71dcd305439d",
   "metadata": {},
   "source": [
    "- month = input(\"Enter the month (e.g., January, February, etc.): \") Takes user input for the month.\n",
    "- month = month.lower() Converts the input month to lowercase for case-insensitive comparison.\n",
    "- The program uses elif statements to determine the season based on the month:\n",
    "- If the month is December, January, or February, the season is winter.\n",
    "- If the month is March, April, or May, the season is spring.\n",
    "- If the month is June, July, or August, the season is summer.\n",
    "- If the month is September, October, or November, the season is fall.\n",
    "- If the month is not one of the above, the season is set to \"not a valid month\"."
   ]
  },
  {
   "cell_type": "markdown",
   "id": "3ae9b808-04c4-42df-8605-e8ec7ae9d6f6",
   "metadata": {},
   "source": [
    "### 30. Implement a program to determine the type of a year (leap or common) and month (30 or 31 days) using elif statements."
   ]
  },
  {
   "cell_type": "code",
   "execution_count": 12,
   "id": "d86cd5f9-3d19-4d6b-b3ad-e33ccc816d0f",
   "metadata": {},
   "outputs": [
    {
     "name": "stdin",
     "output_type": "stream",
     "text": [
      "Enter the year:  2024\n",
      "Enter the month (e.g., January, February, etc.):  February\n"
     ]
    },
    {
     "name": "stdout",
     "output_type": "stream",
     "text": [
      "The year 2024 is a leap year.\n",
      "The month of February has 29 days.\n"
     ]
    }
   ],
   "source": [
    "# Input: Year and Month\n",
    "year = int(input(\"Enter the year: \"))\n",
    "month = input(\"Enter the month (e.g., January, February, etc.): \")\n",
    "\n",
    "# Check if the year is leap or common\n",
    "if (year % 4 == 0 and year % 100 != 0) or year % 400 == 0:\n",
    "    year_type = \"leap\"\n",
    "else:\n",
    "    year_type = \"common\"\n",
    "\n",
    "# Determine the number of days in the month\n",
    "if month.lower() in [\"january\", \"march\", \"may\", \"july\", \"august\", \"october\", \"december\"]:\n",
    "    days = 31\n",
    "elif month.lower() in [\"april\", \"june\", \"september\", \"november\"]:\n",
    "    days = 30\n",
    "elif month.lower() == \"february\" and year_type == \"leap\":\n",
    "    days = 29\n",
    "else:\n",
    "    days = 28\n",
    "\n",
    "# Print the type of year and the number of days in the month\n",
    "print(f\"The year {year} is a {year_type} year.\")\n",
    "print(f\"The month of {month.capitalize()} has {days} days.\")"
   ]
  },
  {
   "cell_type": "markdown",
   "id": "f6ae3f93-565e-4188-93b0-5d521d6f0e5e",
   "metadata": {},
   "source": [
    "### **Basic Level:**"
   ]
  },
  {
   "cell_type": "markdown",
   "id": "a0b4af37-5457-43c5-bcf9-f716fb2ad1a8",
   "metadata": {},
   "source": [
    "### 1. Write a Python program that checks if a given number is positive, negative, or zero."
   ]
  },
  {
   "cell_type": "code",
   "execution_count": 13,
   "id": "49de2e67-16dc-4c87-9240-7f7b5828ded2",
   "metadata": {},
   "outputs": [
    {
     "name": "stdin",
     "output_type": "stream",
     "text": [
      "Enter a number:  56\n"
     ]
    },
    {
     "name": "stdout",
     "output_type": "stream",
     "text": [
      "The number is positive.\n"
     ]
    }
   ],
   "source": [
    "# Input: Number\n",
    "number = float(input(\"Enter a number: \"))\n",
    "\n",
    "# Check if the number is positive, negative, or zero\n",
    "if number > 0:\n",
    "    print(\"The number is positive.\")\n",
    "elif number < 0:\n",
    "    print(\"The number is negative.\")\n",
    "else:\n",
    "    print(\"The number is zero.\")"
   ]
  },
  {
   "cell_type": "markdown",
   "id": "75177ecd-9a66-436e-b067-16436fc1ba8b",
   "metadata": {},
   "source": [
    "- number = float(input(\"Enter a number: \")) Takes user input for a number.\n",
    "- The program uses if, elif, and else statements to check if the number is positive, negative, or zero:\n",
    "- If the number is greater than 0, it is positive.\n",
    "- If the number is less than 0, it is negative.\n",
    "- If the number is equal to 0, it is zero.\n",
    "- The program then prints the result."
   ]
  },
  {
   "cell_type": "markdown",
   "id": "76ab79b8-8fbf-4a14-b06c-e12501f54197",
   "metadata": {},
   "source": [
    "### 2. Create a program to determine if a person is eligible to vote based on their age."
   ]
  },
  {
   "cell_type": "code",
   "execution_count": 14,
   "id": "6279601f-e5f4-4bd8-8f34-a20675e7ef43",
   "metadata": {},
   "outputs": [
    {
     "name": "stdin",
     "output_type": "stream",
     "text": [
      "Enter your age:  67\n"
     ]
    },
    {
     "name": "stdout",
     "output_type": "stream",
     "text": [
      "You are eligible to vote.\n"
     ]
    }
   ],
   "source": [
    "# Input: Age\n",
    "age = int(input(\"Enter your age: \"))\n",
    "\n",
    "# Check if the person is eligible to vote\n",
    "if age >= 18:\n",
    "    print(\"You are eligible to vote.\")\n",
    "else:\n",
    "    print(\"You are not eligible to vote yet.\")"
   ]
  },
  {
   "cell_type": "markdown",
   "id": "b53d12ef-7118-4c20-a6ff-ae464a33c13a",
   "metadata": {},
   "source": [
    "- age = int(input(\"Enter your age: \")) Takes user input for the age of the person.\n",
    "- The program uses an if statement to check if the age is greater than or equal to 18:\n",
    "- If the age is 18 or older, the person is eligible to vote.\n",
    "- If the age is less than 18, the person is not eligible to vote.\n",
    "- The program then prints the result."
   ]
  },
  {
   "cell_type": "markdown",
   "id": "becb74a3-2870-46b1-af6e-8627c32c9ccb",
   "metadata": {},
   "source": [
    "### 3. Write a program to find the maximum of two given numbers using conditional statements."
   ]
  },
  {
   "cell_type": "code",
   "execution_count": 15,
   "id": "6b8ad0f6-bfa7-4789-a30d-44e3b2f2e37a",
   "metadata": {},
   "outputs": [
    {
     "name": "stdin",
     "output_type": "stream",
     "text": [
      "Enter the first number:  56\n",
      "Enter the second number:  78\n"
     ]
    },
    {
     "name": "stdout",
     "output_type": "stream",
     "text": [
      "The maximum of 56.0 and 78.0 is: 78.0\n"
     ]
    }
   ],
   "source": [
    "# Input: Two numbers\n",
    "num1 = float(input(\"Enter the first number: \"))\n",
    "num2 = float(input(\"Enter the second number: \"))\n",
    "\n",
    "# Find the maximum of the two numbers\n",
    "if num1 > num2:\n",
    "    max_num = num1\n",
    "else:\n",
    "    max_num = num2\n",
    "\n",
    "# Print the maximum number\n",
    "print(\"The maximum of\", num1, \"and\", num2, \"is:\", max_num)"
   ]
  },
  {
   "cell_type": "markdown",
   "id": "e654cdfd-c0d4-4f47-9296-ec459d2f805c",
   "metadata": {},
   "source": [
    "### 4. Develop a program that calculates the grade of a student based on their exam score."
   ]
  },
  {
   "cell_type": "code",
   "execution_count": 16,
   "id": "4111ea50-facf-4065-a593-1bc01f3713bd",
   "metadata": {},
   "outputs": [
    {
     "name": "stdin",
     "output_type": "stream",
     "text": [
      "Enter your exam score:  65\n"
     ]
    },
    {
     "name": "stdout",
     "output_type": "stream",
     "text": [
      "Your grade is: D\n"
     ]
    }
   ],
   "source": [
    "# Input: Exam score\n",
    "score = float(input(\"Enter your exam score: \"))\n",
    "\n",
    "# Determine the grade based on the exam score\n",
    "if score >= 90:\n",
    "    grade = \"A\"\n",
    "elif score >= 80:\n",
    "    grade = \"B\"\n",
    "elif score >= 70:\n",
    "    grade = \"C\"\n",
    "elif score >= 60:\n",
    "    grade = \"D\"\n",
    "else:\n",
    "    grade = \"F\"\n",
    "\n",
    "# Print the grade\n",
    "print(\"Your grade is:\", grade)"
   ]
  },
  {
   "cell_type": "markdown",
   "id": "7e796144-7944-4240-824e-edd7847302ff",
   "metadata": {},
   "source": [
    "- score = float(input(\"Enter your exam score: \")) Takes user input for the exam score.\n",
    "- The program uses if and elif statements to determine the grade based on the exam score:\n",
    "- If the score is 90 or above, the grade is \"A\".\n",
    "- If the score is between 80 and 89, the grade is \"B\".\n",
    "- If the score is between 70 and 79, the grade is \"C\".\n",
    "- If the score is between 60 and 69, the grade is \"D\".\n",
    "- If the score is below 60, the grade is \"F\".\n",
    "- The program then prints the grade."
   ]
  },
  {
   "cell_type": "markdown",
   "id": "a012e6df-033b-4308-9b2e-68f7043f82b5",
   "metadata": {},
   "source": [
    "### 5. Create a program that checks if a year is a leap year or not."
   ]
  },
  {
   "cell_type": "code",
   "execution_count": 17,
   "id": "5efdbad3-a53f-4120-9d2c-776cceafa1df",
   "metadata": {},
   "outputs": [
    {
     "name": "stdin",
     "output_type": "stream",
     "text": [
      "Enter a year:  2024\n"
     ]
    },
    {
     "name": "stdout",
     "output_type": "stream",
     "text": [
      "2024 is a leap year.\n"
     ]
    }
   ],
   "source": [
    "# Input: Year\n",
    "year = int(input(\"Enter a year: \"))\n",
    "\n",
    "# Check if the year is a leap year\n",
    "if (year % 4 == 0 and year % 100 != 0) or year % 400 == 0:\n",
    "    print(year, \"is a leap year.\")\n",
    "else:\n",
    "    print(year, \"is not a leap year.\")"
   ]
  },
  {
   "cell_type": "markdown",
   "id": "21686a71-0c4c-4e35-8984-492cda203f76",
   "metadata": {},
   "source": [
    "- year = int(input(\"Enter a year: \")) Takes user input for a year.\n",
    "- The program uses an if statement to check if the year is a leap year:\n",
    "- If the year is divisible by 4 and not divisible by 100, or divisible by 400, it is a leap year.\n",
    "- Otherwise, it is not a leap year.\n",
    "- The program then prints the result."
   ]
  },
  {
   "cell_type": "markdown",
   "id": "12ccba7d-e310-45c9-bdfd-75c45313f57f",
   "metadata": {},
   "source": [
    "### 6. Write a program to classify a triangle based on its sides' lengths."
   ]
  },
  {
   "cell_type": "code",
   "execution_count": 18,
   "id": "3c6bad0f-a63a-4bbf-89e9-43552e32b418",
   "metadata": {},
   "outputs": [
    {
     "name": "stdin",
     "output_type": "stream",
     "text": [
      "Enter the length of side 1:  56\n",
      "Enter the length of side 2:  56\n",
      "Enter the length of side 3:  56\n"
     ]
    },
    {
     "name": "stdout",
     "output_type": "stream",
     "text": [
      "The triangle with side lengths 56.0, 56.0, 56.0 is a equilateral triangle.\n"
     ]
    }
   ],
   "source": [
    "# Input: Lengths of three sides of the triangle\n",
    "side1 = float(input(\"Enter the length of side 1: \"))\n",
    "side2 = float(input(\"Enter the length of side 2: \"))\n",
    "side3 = float(input(\"Enter the length of side 3: \"))\n",
    "\n",
    "# Check the type of triangle based on side lengths\n",
    "if side1 == side2 == side3:\n",
    "    triangle_type = \"equilateral\"\n",
    "elif side1 == side2 or side1 == side3 or side2 == side3:\n",
    "    triangle_type = \"isosceles\"\n",
    "else:\n",
    "    triangle_type = \"scalene\"\n",
    "\n",
    "# Print the type of triangle\n",
    "print(f\"The triangle with side lengths {side1}, {side2}, {side3} is a {triangle_type} triangle.\")"
   ]
  },
  {
   "cell_type": "markdown",
   "id": "c2d1a21c-f90f-4f6f-ada7-d307728e115f",
   "metadata": {},
   "source": [
    "- side1 = float(input(\"Enter the length of side 1: \")), side2 = float(input(\"Enter the length of side 2: \")), side3 = float(input(\"Enter the length of side 3: \"))\n",
    "- Takes user input for the lengths of the three sides of the triangle.\n",
    "- The program uses if, elif, and else statements to check the type of triangle based on the side lengths:\n",
    "- If all three sides are equal, it is an equilateral triangle.\n",
    "- If two sides are equal, it is an isosceles triangle.\n",
    "- If all three sides are different, it is a scalene triangle.\n",
    "- The program then prints the type of triangle."
   ]
  },
  {
   "cell_type": "markdown",
   "id": "ca2bcb3b-7e3b-48b7-8bc9-761d1288d5b6",
   "metadata": {},
   "source": [
    "### 7. Build a program that determines the largest of three given numbers."
   ]
  },
  {
   "cell_type": "code",
   "execution_count": 19,
   "id": "84a3948e-7621-48ff-858a-322ec94c4371",
   "metadata": {},
   "outputs": [
    {
     "name": "stdin",
     "output_type": "stream",
     "text": [
      "Enter the first number:  5\n",
      "Enter the second number:  10\n",
      "Enter the third number:  3\n"
     ]
    },
    {
     "name": "stdout",
     "output_type": "stream",
     "text": [
      "The largest number is: 10.0\n"
     ]
    }
   ],
   "source": [
    "# Input: Three numbers\n",
    "num1 = float(input(\"Enter the first number: \"))\n",
    "num2 = float(input(\"Enter the second number: \"))\n",
    "num3 = float(input(\"Enter the third number: \"))\n",
    "\n",
    "# Find the largest of the three numbers\n",
    "if num1 >= num2 and num1 >= num3:\n",
    "    largest = num1\n",
    "elif num2 >= num1 and num2 >= num3:\n",
    "    largest = num2\n",
    "else:\n",
    "    largest = num3\n",
    "\n",
    "# Print the largest number\n",
    "print(\"The largest number is:\", largest)"
   ]
  },
  {
   "cell_type": "markdown",
   "id": "af532124-753e-40d4-b2fb-4d84e81ff69c",
   "metadata": {},
   "source": [
    "- num1 = float(input(\"Enter the first number: \")), num2 = float(input(\"Enter the second number: \")), num3 = float(input(\"Enter the third number: \"))\n",
    "- Takes user input for three numbers.\n",
    "- The program uses if, elif, and else statements to compare the three numbers and find the largest:\n",
    "- If num1 is greater than or equal to num2 and num1 is greater than or equal to num3, then num1 is the largest.\n",
    "- If num2 is greater than or equal to num1 and num2 is greater than or equal to num3, then num2 is the largest. Otherwise, num3 is the largest.\n",
    "- The program then prints the largest number."
   ]
  },
  {
   "cell_type": "markdown",
   "id": "5ea75fff-1668-45f3-8d23-21c72f31276d",
   "metadata": {},
   "source": [
    "### 8. Develop a program that checks whether a character is a vowel or a consonant."
   ]
  },
  {
   "cell_type": "code",
   "execution_count": 21,
   "id": "70c611fa-f978-47ba-8f9c-4503e55071a7",
   "metadata": {},
   "outputs": [
    {
     "name": "stdin",
     "output_type": "stream",
     "text": [
      "Enter a character:  O\n"
     ]
    },
    {
     "name": "stdout",
     "output_type": "stream",
     "text": [
      "The character 'O' is a vowel.\n"
     ]
    }
   ],
   "source": [
    "# Input: Character\n",
    "char = input(\"Enter a character: \")\n",
    "\n",
    "# Check if the character is a vowel or a consonant\n",
    "if char.lower() in ['a', 'e', 'i', 'o', 'u']:\n",
    "    print(f\"The character '{char}' is a vowel.\")\n",
    "else:\n",
    "    print(f\"The character '{char}' is a consonant.\")"
   ]
  },
  {
   "cell_type": "markdown",
   "id": "38f4359d-cac9-467e-a141-6765c92060a3",
   "metadata": {},
   "source": [
    "### 9. Create a program to calculate the total cost of a shopping cart based on discounts."
   ]
  },
  {
   "cell_type": "code",
   "execution_count": 22,
   "id": "401c5ba6-7818-4a40-bcb1-b73558d543ec",
   "metadata": {},
   "outputs": [
    {
     "name": "stdin",
     "output_type": "stream",
     "text": [
      "Enter the number of items:  3\n",
      "Enter the price of item 1:  30\n",
      "Enter the price of item 2:  50\n",
      "Enter the price of item 3:  40\n"
     ]
    },
    {
     "name": "stdout",
     "output_type": "stream",
     "text": [
      "Total cost: $120.00\n",
      "Discount: $12.00\n",
      "Final cost: $108.00\n"
     ]
    }
   ],
   "source": [
    "# Input: Number of items and their prices\n",
    "num_items = int(input(\"Enter the number of items: \"))\n",
    "total_cost = 0\n",
    "\n",
    "# Calculate the total cost\n",
    "for i in range(num_items):\n",
    "    item_price = float(input(f\"Enter the price of item {i + 1}: \"))\n",
    "    total_cost += item_price\n",
    "\n",
    "# Apply discount based on total cost\n",
    "if total_cost >= 100:\n",
    "    discount = total_cost * 0.1\n",
    "else:\n",
    "    discount = 0\n",
    "\n",
    "# Calculate the final cost after applying discount\n",
    "final_cost = total_cost - discount\n",
    "\n",
    "# Print the total cost, discount amount, and final cost\n",
    "print(f\"Total cost: ${total_cost:.2f}\")\n",
    "print(f\"Discount: ${discount:.2f}\")\n",
    "print(f\"Final cost: ${final_cost:.2f}\")"
   ]
  },
  {
   "cell_type": "markdown",
   "id": "01c079c1-6683-4c19-9e20-f9a00c63ed3d",
   "metadata": {},
   "source": [
    "- num_items = int(input(\"Enter the number of items: \")) Takes user input for the number of items in the shopping cart.\n",
    "- The program uses a for loop to iterate over each item and calculate the total cost:\n",
    "- For each item, it takes user input for the price and adds it to the total_cost.\n",
    "- After calculating the total cost, the program applies a discount based on the total cost:\n",
    "- If the total cost is $100 or more, a 10% discount is applied. Otherwise, no discount is applied.\n",
    "- The program calculates the final cost by subtracting the discount from the total cost.\n",
    "- Finally, the program prints the total cost, discount amount, and final cost."
   ]
  },
  {
   "cell_type": "markdown",
   "id": "355c3a97-a5b2-4cf5-8a73-fc703c946620",
   "metadata": {},
   "source": [
    "### 10. Write a program that checks if a given number is even or odd."
   ]
  },
  {
   "cell_type": "code",
   "execution_count": 23,
   "id": "a932d083-9fdf-44ed-9cb4-56b38a44c386",
   "metadata": {},
   "outputs": [
    {
     "name": "stdin",
     "output_type": "stream",
     "text": [
      "Enter a number:  8\n"
     ]
    },
    {
     "name": "stdout",
     "output_type": "stream",
     "text": [
      "The number 8 is even.\n"
     ]
    }
   ],
   "source": [
    "# Input: Number\n",
    "number = int(input(\"Enter a number: \"))\n",
    "\n",
    "# Check if the number is even or odd\n",
    "if number % 2 == 0:\n",
    "    print(f\"The number {number} is even.\")\n",
    "else:\n",
    "    print(f\"The number {number} is odd.\")"
   ]
  },
  {
   "cell_type": "markdown",
   "id": "ca99a5fa-2b99-40e4-baf6-432235255344",
   "metadata": {},
   "source": [
    "- number = int(input(\"Enter a number: \")) Takes user input for a number.\n",
    "- The program uses an if statement to check if the number is even:\n",
    "- If the remainder of the number divided by 2 is 0, it is even Otherwise, it is odd.\n",
    "- The program then prints whether the number is even or odd."
   ]
  },
  {
   "cell_type": "markdown",
   "id": "571d1687-ad3e-4178-9091-bc684c55e5d0",
   "metadata": {},
   "source": [
    "### **Intermediate Level:**"
   ]
  },
  {
   "cell_type": "markdown",
   "id": "348573ae-eb2f-4547-8ebc-7b6e19f87dd1",
   "metadata": {},
   "source": [
    "### 11. Write a program that calculates the roots of a quadratic equation."
   ]
  },
  {
   "cell_type": "code",
   "execution_count": 1,
   "id": "34ac6b54-1894-4dc3-941c-2a7e087b098d",
   "metadata": {},
   "outputs": [
    {
     "name": "stdin",
     "output_type": "stream",
     "text": [
      "Enter the coefficient of x^2 (a):  1\n",
      "Enter the coefficient of x (b):  -3\n",
      "Enter the constant term (c):  2\n"
     ]
    },
    {
     "name": "stdout",
     "output_type": "stream",
     "text": [
      "The roots are real and different: 2.0 and 1.0\n"
     ]
    }
   ],
   "source": [
    "import math\n",
    "\n",
    "# Input: Coefficients of the quadratic equation (a, b, c)\n",
    "a = float(input(\"Enter the coefficient of x^2 (a): \"))\n",
    "b = float(input(\"Enter the coefficient of x (b): \"))\n",
    "c = float(input(\"Enter the constant term (c): \"))\n",
    "\n",
    "# Calculate the discriminant\n",
    "discriminant = b**2 - 4*a*c\n",
    "\n",
    "# Check if the discriminant is positive, zero, or negative\n",
    "if discriminant > 0:\n",
    "    root1 = (-b + math.sqrt(discriminant)) / (2*a)\n",
    "    root2 = (-b - math.sqrt(discriminant)) / (2*a)\n",
    "    print(f\"The roots are real and different: {root1} and {root2}\")\n",
    "elif discriminant == 0:\n",
    "    root = -b / (2*a)\n",
    "    print(f\"The root is real and equal: {root}\")\n",
    "else:\n",
    "    real_part = -b / (2*a)\n",
    "    imaginary_part = math.sqrt(abs(discriminant)) / (2*a)\n",
    "    print(f\"The roots are complex: {real_part} + {imaginary_part}i and {real_part} - {imaginary_part}i\")"
   ]
  },
  {
   "cell_type": "markdown",
   "id": "3ac416a6-a75b-48f4-b0c5-ad960f0bf270",
   "metadata": {},
   "source": [
    "- a = float(input(\"Enter the coefficient of x^2 (a): \")), b = float(input(\"Enter the coefficient of x (b): \")), c = float(input(\"Enter the constant term (c): \")) Takes user input for the coefficients of the quadratic equation (a, b, c).\n",
    "- The program calculates the discriminant of the quadratic equation using the formula b^2 - 4ac.\n",
    "- It uses if, elif, and else statements to determine the nature of the roots based on the discriminant:\n",
    "- If the discriminant is greater than 0, the roots are real and different.\n",
    "- If the discriminant is equal to 0, the roots are real and equal.\n",
    "- If the discriminant is less than 0, the roots are complex.\n",
    "- Depending on the nature of the roots, the program calculates and prints the roots of the quadratic equation."
   ]
  },
  {
   "cell_type": "markdown",
   "id": "6987c027-5875-4621-a786-c954fde78d84",
   "metadata": {},
   "source": [
    "### 12. Create a program that determines the day of the week based on the day number (1-7)."
   ]
  },
  {
   "cell_type": "code",
   "execution_count": 2,
   "id": "c77595c7-fd12-492d-8f64-4ab3b6977d2d",
   "metadata": {},
   "outputs": [
    {
     "name": "stdin",
     "output_type": "stream",
     "text": [
      "Enter the day number (1-7):  3\n"
     ]
    },
    {
     "name": "stdout",
     "output_type": "stream",
     "text": [
      "The day corresponding to day number 3 is Wednesday.\n"
     ]
    }
   ],
   "source": [
    "# Input: Day number (1-7)\n",
    "day_number = int(input(\"Enter the day number (1-7): \"))\n",
    "\n",
    "# Determine the day of the week\n",
    "if day_number == 1:\n",
    "    day_name = \"Monday\"\n",
    "elif day_number == 2:\n",
    "    day_name = \"Tuesday\"\n",
    "elif day_number == 3:\n",
    "    day_name = \"Wednesday\"\n",
    "elif day_number == 4:\n",
    "    day_name = \"Thursday\"\n",
    "elif day_number == 5:\n",
    "    day_name = \"Friday\"\n",
    "elif day_number == 6:\n",
    "    day_name = \"Saturday\"\n",
    "elif day_number == 7:\n",
    "    day_name = \"Sunday\"\n",
    "else:\n",
    "    day_name = \"Invalid day number\"\n",
    "\n",
    "# Print the day of the week\n",
    "print(f\"The day corresponding to day number {day_number} is {day_name}.\")"
   ]
  },
  {
   "cell_type": "markdown",
   "id": "f7b5ac94-0844-480c-a678-c7e069d90b63",
   "metadata": {},
   "source": [
    "- day_number = int(input(\"Enter the day number (1-7): \")) Takes user input for the day number (1-7).\n",
    "- The program uses if and elif statements to determine the day of the week based on the day number:\n",
    "- If the day number is 1, the day is Monday.\n",
    "- If the day number is 2, the day is Tuesday.\n",
    "- If the day number is 3, the day is Wednesday.\n",
    "- If the day number is 4, the day is Thursday.\n",
    "- If the day number is 5, the day is Friday.\n",
    "- If the day number is 6, the day is Saturday.\n",
    "- If the day number is 7, the day is Sunday.\n",
    "- If the day number is not in the range 1-7, the program considers it an invalid day number.\n",
    "- The program then prints the day of the week corresponding to the day number."
   ]
  },
  {
   "cell_type": "markdown",
   "id": "eed35139-29ce-4610-a499-6964eaeeca38",
   "metadata": {},
   "source": [
    "### 13. Develop a program that calculates the factorial of a given number using recursion."
   ]
  },
  {
   "cell_type": "code",
   "execution_count": 3,
   "id": "70f566db-92a5-42ba-9af7-4c798526dcf2",
   "metadata": {},
   "outputs": [
    {
     "name": "stdin",
     "output_type": "stream",
     "text": [
      "Enter a number:  5\n"
     ]
    },
    {
     "name": "stdout",
     "output_type": "stream",
     "text": [
      "The factorial of 5 is: 120\n"
     ]
    }
   ],
   "source": [
    "def factorial(n):\n",
    "    if n == 0:\n",
    "        return 1\n",
    "    else:\n",
    "        return n * factorial(n - 1)\n",
    "\n",
    "# Input: Number\n",
    "number = int(input(\"Enter a number: \"))\n",
    "\n",
    "# Calculate the factorial\n",
    "result = factorial(number)\n",
    "\n",
    "# Print the result\n",
    "print(f\"The factorial of {number} is: {result}\")"
   ]
  },
  {
   "cell_type": "markdown",
   "id": "0f879729-3e50-4751-92c7-ce51d37485c9",
   "metadata": {},
   "source": [
    "- The factorial function is defined to calculate the factorial of a given number n:\n",
    "- If n is 0, the factorial is 1 (base case).\n",
    "- Otherwise, the factorial is n multiplied by the factorial of n-1.\n",
    "- number = int(input(\"Enter a number: \"))\n",
    "- Takes user input for a number.\n",
    "- The program calls the factorial function with the input number to calculate the factorial.\n",
    "- Finally, it prints the factorial of the input number."
   ]
  },
  {
   "cell_type": "markdown",
   "id": "21759ad9-5541-4340-a630-29d35877b762",
   "metadata": {},
   "source": [
    "### 14. Write a program to find the largest among three numbers without using the `max()` function."
   ]
  },
  {
   "cell_type": "code",
   "execution_count": 4,
   "id": "8b10885c-e6fd-4a64-9604-f4896e984c10",
   "metadata": {},
   "outputs": [
    {
     "name": "stdin",
     "output_type": "stream",
     "text": [
      "Enter the first number:  5\n",
      "Enter the second number:  10\n",
      "Enter the third number:  3\n"
     ]
    },
    {
     "name": "stdout",
     "output_type": "stream",
     "text": [
      "The largest number is: 10.0\n"
     ]
    }
   ],
   "source": [
    "# Input: Three numbers\n",
    "num1 = float(input(\"Enter the first number: \"))\n",
    "num2 = float(input(\"Enter the second number: \"))\n",
    "num3 = float(input(\"Enter the third number: \"))\n",
    "\n",
    "# Find the largest number\n",
    "if num1 >= num2 and num1 >= num3:\n",
    "    largest = num1\n",
    "elif num2 >= num1 and num2 >= num3:\n",
    "    largest = num2\n",
    "else:\n",
    "    largest = num3\n",
    "\n",
    "# Print the largest number\n",
    "print(\"The largest number is:\", largest)"
   ]
  },
  {
   "cell_type": "markdown",
   "id": "23ef7061-5e4d-4bc9-aa8a-092901ec00f4",
   "metadata": {},
   "source": [
    "- num1 = float(input(\"Enter the first number: \")), num2 = float(input(\"Enter the second number: \")), num3 = float(input(\"Enter the third number: \")) Takes user input for three numbers.\n",
    "- The program uses if, elif, and else statements to compare the three numbers and find the largest:\n",
    "- If num1 is greater than or equal to num2 and num1 is greater than or equal to num3, then num1 is the largest.\n",
    "- If num2 is greater than or equal to num1 and num2 is greater than or equal to num3, then num2 is the largest. Otherwise, num3 is the largest.\n",
    "- The program then prints the largest number"
   ]
  },
  {
   "cell_type": "markdown",
   "id": "37078e50-9cb3-4036-9fcb-183281d022bc",
   "metadata": {},
   "source": [
    "### 15. Create a program that simulates a basic ATM transaction menu."
   ]
  },
  {
   "cell_type": "code",
   "execution_count": 1,
   "id": "44727e72-eb1d-4365-bf3c-f40c68185ec4",
   "metadata": {},
   "outputs": [
    {
     "name": "stdout",
     "output_type": "stream",
     "text": [
      "************ ATM ************\n",
      "1. Check Balance\n",
      "2. Deposit\n",
      "3. Withdraw\n",
      "4. Exit\n",
      "******************************\n"
     ]
    },
    {
     "name": "stdin",
     "output_type": "stream",
     "text": [
      "Enter your choice:  1\n"
     ]
    },
    {
     "name": "stdout",
     "output_type": "stream",
     "text": [
      "Your balance is: $1000\n",
      "************ ATM ************\n",
      "1. Check Balance\n",
      "2. Deposit\n",
      "3. Withdraw\n",
      "4. Exit\n",
      "******************************\n"
     ]
    },
    {
     "name": "stdin",
     "output_type": "stream",
     "text": [
      "Enter your choice:  2\n",
      "Enter deposit amount:  2000\n"
     ]
    },
    {
     "name": "stdout",
     "output_type": "stream",
     "text": [
      "Deposit successful. Your new balance is: $3000.0\n",
      "************ ATM ************\n",
      "1. Check Balance\n",
      "2. Deposit\n",
      "3. Withdraw\n",
      "4. Exit\n",
      "******************************\n"
     ]
    },
    {
     "name": "stdin",
     "output_type": "stream",
     "text": [
      "Enter your choice:  4\n"
     ]
    },
    {
     "name": "stdout",
     "output_type": "stream",
     "text": [
      "Thank you for using the ATM. Goodbye!\n"
     ]
    }
   ],
   "source": [
    "# Function to display the ATM menu\n",
    "def display_menu():\n",
    "    print(\"************ ATM ************\")\n",
    "    print(\"1. Check Balance\")\n",
    "    print(\"2. Deposit\")\n",
    "    print(\"3. Withdraw\")\n",
    "    print(\"4. Exit\")\n",
    "    print(\"******************************\")\n",
    "\n",
    "# Initialize balance\n",
    "balance = 1000\n",
    "\n",
    "# ATM menu loop\n",
    "while True:\n",
    "    display_menu()\n",
    "    choice = input(\"Enter your choice: \")\n",
    "\n",
    "    if choice == '1':\n",
    "        print(f\"Your balance is: ${balance}\")\n",
    "    elif choice == '2':\n",
    "        amount = float(input(\"Enter deposit amount: \"))\n",
    "        balance += amount\n",
    "        print(f\"Deposit successful. Your new balance is: ${balance}\")\n",
    "    elif choice == '3':\n",
    "        amount = float(input(\"Enter withdrawal amount: \"))\n",
    "        if amount <= balance:\n",
    "            balance -= amount\n",
    "            print(f\"Withdrawal successful. Your new balance is: ${balance}\")\n",
    "        else:\n",
    "            print(\"Insufficient funds.\")\n",
    "    elif choice == '4':\n",
    "        print(\"Thank you for using the ATM. Goodbye!\")\n",
    "        break\n",
    "    else:\n",
    "        print(\"Invalid choice. Please try again.\")"
   ]
  },
  {
   "cell_type": "markdown",
   "id": "1bbc0b6c-87fc-4f25-8c38-ab6a95c8048e",
   "metadata": {},
   "source": [
    "### 16. Build a program that checks if a given string is a palindrome or not."
   ]
  },
  {
   "cell_type": "code",
   "execution_count": 2,
   "id": "f4dd53c8-842b-428f-91d1-c6a51c1818fb",
   "metadata": {},
   "outputs": [
    {
     "name": "stdin",
     "output_type": "stream",
     "text": [
      "Enter a string:  Radar\n"
     ]
    },
    {
     "name": "stdout",
     "output_type": "stream",
     "text": [
      "The string is a palindrome.\n"
     ]
    }
   ],
   "source": [
    "def is_palindrome(s):\n",
    "    # Remove spaces and convert to lowercase\n",
    "    s = s.replace(\" \", \"\").lower()\n",
    "    # Check if the string is equal to its reverse\n",
    "    return s == s[::-1]\n",
    "\n",
    "# Input: String\n",
    "string = input(\"Enter a string: \")\n",
    "\n",
    "# Check if the string is a palindrome\n",
    "if is_palindrome(string):\n",
    "    print(\"The string is a palindrome.\")\n",
    "else:\n",
    "    print(\"The string is not a palindrome.\")"
   ]
  },
  {
   "cell_type": "markdown",
   "id": "8361abbb-19c6-4483-9783-3ce547097d49",
   "metadata": {},
   "source": [
    "- The is_palindrome function takes a string s, removes spaces, and converts it to lowercase. It then checks if the string is equal to its reverse using slicing (s[::-1]).\n",
    "- string = input(\"Enter a string: \") takes a string input from the user.\n",
    "- The program then calls the is_palindrome function with the input string and prints whether it is a palindrome or not."
   ]
  },
  {
   "cell_type": "markdown",
   "id": "19f5f4f9-0dda-41d0-b429-a2654c7a3165",
   "metadata": {},
   "source": [
    "### 17. Write a program that calculates the average of a list of numbers, excluding the smallest and largest values."
   ]
  },
  {
   "cell_type": "code",
   "execution_count": 5,
   "id": "45a74f16-0623-44a8-8195-678880ba2435",
   "metadata": {},
   "outputs": [
    {
     "name": "stdin",
     "output_type": "stream",
     "text": [
      "Enter a list of numbers separated by spaces:  10 5 7 3 9\n"
     ]
    },
    {
     "name": "stdout",
     "output_type": "stream",
     "text": [
      "The average of the numbers (excluding the smallest and largest values) is: 7.0\n"
     ]
    }
   ],
   "source": [
    "def calculate_average(numbers):\n",
    "    # Exclude the smallest and largest values\n",
    "    numbers.sort()\n",
    "    numbers = numbers[1:-1]\n",
    "    # Calculate the average\n",
    "    return sum(numbers) / len(numbers)\n",
    "\n",
    "# Input: List of numbers\n",
    "numbers = [float(x) for x in input(\"Enter a list of numbers separated by spaces: \").split()]\n",
    "\n",
    "# Calculate the average excluding the smallest and largest values\n",
    "average = calculate_average(numbers)\n",
    "\n",
    "# Print the average\n",
    "print(f\"The average of the numbers (excluding the smallest and largest values) is: {average}\")"
   ]
  },
  {
   "cell_type": "markdown",
   "id": "ed69fd03-7214-4405-bcd2-5f35d560c57b",
   "metadata": {},
   "source": [
    "- The calculate_average function takes a list of numbers, sorts it, and then excludes the smallest and largest values using list slicing (numbers[1:-1]). It then calculates the average of the remaining values.\n",
    "- numbers = [float(x) for x in input(\"Enter a list of numbers separated by spaces: \").split()] takes a list of - - numbers as input from the user, splitting the input string by spaces and converting each part to a float.\n",
    "- The program then calls the calculate_average function with the input list of numbers and prints the calculated average."
   ]
  },
  {
   "cell_type": "markdown",
   "id": "1757b459-2d4a-4f55-898f-352aa918ac05",
   "metadata": {},
   "source": [
    "### 18. Develop a program that converts a given temperature from Celsius to Fahrenheit."
   ]
  },
  {
   "cell_type": "code",
   "execution_count": 6,
   "id": "37843304-eda2-4d74-a579-4a62be3a7944",
   "metadata": {},
   "outputs": [
    {
     "name": "stdin",
     "output_type": "stream",
     "text": [
      "Enter temperature in Celsius:  46\n"
     ]
    },
    {
     "name": "stdout",
     "output_type": "stream",
     "text": [
      "The temperature 46.0°C is equivalent to 114.8°F.\n"
     ]
    }
   ],
   "source": [
    "# Input: Temperature in Celsius\n",
    "celsius = float(input(\"Enter temperature in Celsius: \"))\n",
    "\n",
    "# Convert Celsius to Fahrenheit\n",
    "fahrenheit = (celsius * 9/5) + 32\n",
    "\n",
    "# Print the result\n",
    "print(f\"The temperature {celsius}°C is equivalent to {fahrenheit}°F.\")"
   ]
  },
  {
   "cell_type": "markdown",
   "id": "ba0e8857-7494-4bdc-b924-a752da08b886",
   "metadata": {},
   "source": [
    "- celsius = float(input(\"Enter temperature in Celsius: \")) takes the temperature in Celsius as input from the user and converts it to a float.\n",
    "- The program then calculates the equivalent temperature in Fahrenheit using the formula (celsius * 9/5) + 32.\n",
    "- Finally, it prints the original temperature in Celsius and the converted temperature in Fahrenheit."
   ]
  },
  {
   "cell_type": "markdown",
   "id": "ea42533a-64f4-471f-9e5f-733a1ac0c7d6",
   "metadata": {},
   "source": [
    "### 19. Create a program that simulates a basic calculator for addition, subtraction, multiplication, and division"
   ]
  },
  {
   "cell_type": "code",
   "execution_count": 7,
   "id": "561c3acc-7c5c-4a3a-ad49-957997c1fb91",
   "metadata": {},
   "outputs": [
    {
     "name": "stdin",
     "output_type": "stream",
     "text": [
      "Enter the first number:  8\n",
      "Enter the second number:  9\n",
      "Enter the operation (+, -, *, /):  +\n"
     ]
    },
    {
     "name": "stdout",
     "output_type": "stream",
     "text": [
      "The result of 8.0 + 9.0 is: 17.0\n"
     ]
    }
   ],
   "source": [
    "# Function to add two numbers\n",
    "def add(a, b):\n",
    "    return a + b\n",
    "\n",
    "# Function to subtract two numbers\n",
    "def subtract(a, b):\n",
    "    return a - b\n",
    "\n",
    "# Function to multiply two numbers\n",
    "def multiply(a, b):\n",
    "    return a * b\n",
    "\n",
    "# Function to divide two numbers\n",
    "def divide(a, b):\n",
    "    if b != 0:\n",
    "        return a / b\n",
    "    else:\n",
    "        return \"Division by zero is not allowed.\"\n",
    "\n",
    "# Input: Two numbers and operation\n",
    "num1 = float(input(\"Enter the first number: \"))\n",
    "num2 = float(input(\"Enter the second number: \"))\n",
    "operation = input(\"Enter the operation (+, -, *, /): \")\n",
    "\n",
    "# Perform the selected operation\n",
    "if operation == '+':\n",
    "    result = add(num1, num2)\n",
    "elif operation == '-':\n",
    "    result = subtract(num1, num2)\n",
    "elif operation == '*':\n",
    "    result = multiply(num1, num2)\n",
    "elif operation == '/':\n",
    "    result = divide(num1, num2)\n",
    "else:\n",
    "    result = \"Invalid operation.\"\n",
    "\n",
    "# Print the result\n",
    "print(f\"The result of {num1} {operation} {num2} is: {result}\")"
   ]
  },
  {
   "cell_type": "markdown",
   "id": "24a33d6c-ac9b-4b2f-b69d-3442fe9a5034",
   "metadata": {},
   "source": [
    "- The program defines four functions: add, subtract, multiply, and divide, which perform addition, subtraction, multiplication, and division, respectively.\n",
    "- The program takes two numbers (num1 and num2) and an operation (operation) as input from the user.\n",
    "- Depending on the selected operation, the program calls the corresponding function and calculates the result.\n",
    "- If the operation is division ('/') and the second number (num2) is zero, the program handles the division by zero error.\n",
    "- Finally, the program prints the result of the operation."
   ]
  },
  {
   "cell_type": "markdown",
   "id": "ac8d634e-e727-462e-a906-b8c461600fe9",
   "metadata": {},
   "source": [
    "### 20. Write a program that determines the roots of a cubic equation using the Cardano formula."
   ]
  },
  {
   "cell_type": "code",
   "execution_count": 8,
   "id": "1ad6ac71-11f5-48a0-b341-12fe669f9c95",
   "metadata": {},
   "outputs": [
    {
     "name": "stdin",
     "output_type": "stream",
     "text": [
      "Enter the coefficient of x^3 (a):  5\n",
      "Enter the coefficient of x^2 (b):  6\n",
      "Enter the coefficient of x (c):  7\n",
      "Enter the constant term (d):  9\n"
     ]
    },
    {
     "name": "stdout",
     "output_type": "stream",
     "text": [
      "The roots of the cubic equation are:\n",
      "0.020766838249570485\n",
      "-1.3887668382495706\n",
      "(-0.4+0.05660810336210837j)\n"
     ]
    }
   ],
   "source": [
    "import math\n",
    "\n",
    "def cubic_roots(a, b, c, d):\n",
    "    # Calculate the discriminant\n",
    "    p = (3*a*c - b**2) / (3*a**2)\n",
    "    q = (2*b**3 - 9*a*b*c + 27*a**2*d) / (27*a**3)\n",
    "    discriminant = q**2 + (4*p**3)/27\n",
    "\n",
    "    if discriminant > 0:\n",
    "        # One real root, two complex roots\n",
    "        root1 = (-q + math.sqrt(discriminant)) / 2\n",
    "        root2 = (-q - math.sqrt(discriminant)) / 2\n",
    "        real_part = -(b / (3*a))\n",
    "        imaginary_part = math.sqrt(3) / 2 * math.sqrt(abs((-q**2 + discriminant) / 27))\n",
    "        root3 = complex(real_part, imaginary_part)\n",
    "        return root1, root2, root3\n",
    "    elif discriminant == 0:\n",
    "        # Three real roots, at least two are equal\n",
    "        if q >= 0:\n",
    "            root1 = -2 * math.pow(q, 1/3) - b / (3*a)\n",
    "            root2 = math.pow(q, 1/3) - b / (3*a)\n",
    "            root3 = math.pow(q, 1/3) - b / (3*a)\n",
    "        else:\n",
    "            root1 = 2 * math.pow(-q, 1/3) - b / (3*a)\n",
    "            root2 = -math.pow(-q, 1/3) - b / (3*a)\n",
    "            root3 = -math.pow(-q, 1/3) - b / (3*a)\n",
    "        return root1, root2, root3\n",
    "    else:\n",
    "        # Three real roots\n",
    "        phi = math.acos(-q / math.sqrt(-(p**3)/27))\n",
    "        root1 = 2 * math.sqrt(-p/3) * math.cos(phi/3) - b / (3*a)\n",
    "        root2 = 2 * math.sqrt(-p/3) * math.cos((phi + 2*math.pi)/3) - b / (3*a)\n",
    "        root3 = 2 * math.sqrt(-p/3) * math.cos((phi + 4*math.pi)/3) - b / (3*a)\n",
    "        return root1, root2, root3\n",
    "\n",
    "# Input: Coefficients of the cubic equation\n",
    "a = float(input(\"Enter the coefficient of x^3 (a): \"))\n",
    "b = float(input(\"Enter the coefficient of x^2 (b): \"))\n",
    "c = float(input(\"Enter the coefficient of x (c): \"))\n",
    "d = float(input(\"Enter the constant term (d): \"))\n",
    "\n",
    "# Calculate and print the roots\n",
    "roots = cubic_roots(a, b, c, d)\n",
    "print(\"The roots of the cubic equation are:\")\n",
    "for root in roots:\n",
    "    print(root)"
   ]
  },
  {
   "cell_type": "markdown",
   "id": "6b461763-01fe-4333-88ab-0da6840c6d0b",
   "metadata": {},
   "source": [
    "- The cubic_roots function calculates the roots of a cubic equation using the Cardano formula. It takes four coefficients (a, b, c, d) as input and returns the roots.\n",
    "- The program takes input for the coefficients of the cubic equation (a, b, c, d) from the user.\n",
    "- It then calls the cubic_roots function with the input coefficients and prints the roots of the cubic equation."
   ]
  },
  {
   "cell_type": "markdown",
   "id": "486f4847-5315-4506-ae80-bbdd696c65a5",
   "metadata": {},
   "source": [
    "### **Advanced Level:**"
   ]
  },
  {
   "cell_type": "markdown",
   "id": "a3b673bd-3786-46b3-948f-626caebdfad4",
   "metadata": {},
   "source": [
    "### 21. Create a program that calculates the income tax based on the user's income and tax brackets."
   ]
  },
  {
   "cell_type": "code",
   "execution_count": 1,
   "id": "f5203afc-05a9-482b-82fe-116e6c0d80d7",
   "metadata": {},
   "outputs": [
    {
     "name": "stdin",
     "output_type": "stream",
     "text": [
      "Enter your income:  5000\n"
     ]
    },
    {
     "name": "stdout",
     "output_type": "stream",
     "text": [
      "Your income tax is: 500.0\n"
     ]
    }
   ],
   "source": [
    "def calculate_tax(income, brackets):\n",
    "    tax = 0\n",
    "    remaining_income = income\n",
    "\n",
    "    for bracket in brackets:\n",
    "        if remaining_income <= 0:\n",
    "            break\n",
    "        elif remaining_income <= bracket[0]:\n",
    "            tax += remaining_income * bracket[1]\n",
    "            break\n",
    "        else:\n",
    "            tax += bracket[0] * bracket[1]\n",
    "            remaining_income -= bracket[0]\n",
    "\n",
    "    return tax\n",
    "\n",
    "# Define tax brackets as list of tuples (upper_limit, tax_rate)\n",
    "# Assuming that brackets are sorted in ascending order of upper limit\n",
    "brackets = [\n",
    "    (10000, 0.1),\n",
    "    (20000, 0.2),\n",
    "    (50000, 0.3),\n",
    "    (float('inf'), 0.4)  # Last bracket with infinite upper limit\n",
    "]\n",
    "\n",
    "# Input: User's income\n",
    "income = float(input(\"Enter your income: \"))\n",
    "\n",
    "# Calculate and print income tax\n",
    "tax = calculate_tax(income, brackets)\n",
    "print(f\"Your income tax is: {tax}\")"
   ]
  },
  {
   "cell_type": "markdown",
   "id": "5d3fdc2b-8e4c-4494-9e18-9741e865a602",
   "metadata": {},
   "source": [
    "- -def calculate_tax(income, brackets): - Defines a function calculate_tax that takes the user's income and a list of tax brackets as input.\n",
    "\n",
    "- tax = 0 - Initializes the variable tax to 0.\n",
    "\n",
    "- remaining_income = income - Initializes the variable remaining_income to the total income.\n",
    "\n",
    "- for bracket in brackets: - Iterates over each tax bracket in the list brackets.\n",
    "\n",
    "- if remaining_income <= 0: - Checks if there is no remaining income. If true, breaks out of the loop.\n",
    "\n",
    "- elif remaining_income <= bracket[0]: - Checks if the remaining income is less than or equal to the current bracket's upper limit.\n",
    "\n",
    "- tax += remaining_income * bracket[1] - Calculates tax for the remaining income in this bracket and adds it to the total tax.\n",
    "\n",
    "- else: - If the remaining income is greater than the current bracket's upper limit.\n",
    "\n",
    "- tax += bracket[0] * bracket[1] - Calculates tax for this entire bracket and subtracts the bracket's upper limit from the remaining income.\n",
    "\n",
    "- remaining_income -= bracket[0] - Subtracts the bracket's upper limit from the remaining income.\n",
    "\n",
    "- return tax - Returns the total tax calculated.\n",
    "\n",
    "- brackets = [...] - Defines the tax brackets as a list of tuples, where each tuple contains the upper limit of the bracket and the tax rate.\n",
    "\n",
    "- income = float(input(\"Enter your income: \")) - Takes the user's income as input.\n",
    "\n",
    "- tax = calculate_tax(income, brackets) - Calls the calculate_tax function with the user's income and tax brackets as arguments to calculate the tax.\n",
    "\n",
    "- print(f\"Your income tax is: {tax}\") - Prints the calculated income tax."
   ]
  },
  {
   "cell_type": "markdown",
   "id": "ff6140ce-24e2-41b9-9acf-b99556a525f2",
   "metadata": {},
   "source": [
    "### 22. Write a program that simulates a rock-paper-scissors game against the computer."
   ]
  },
  {
   "cell_type": "code",
   "execution_count": 2,
   "id": "056fccf5-3182-4ee1-bbf3-e3177443d23d",
   "metadata": {},
   "outputs": [
    {
     "name": "stdin",
     "output_type": "stream",
     "text": [
      "Enter your choice (rock, paper, scissors):  paper\n"
     ]
    },
    {
     "name": "stdout",
     "output_type": "stream",
     "text": [
      "Computer chooses: rock\n",
      "You win!\n"
     ]
    },
    {
     "name": "stdin",
     "output_type": "stream",
     "text": [
      "Do you want to play again? (yes/no):  yes\n",
      "Enter your choice (rock, paper, scissors):  scissors\n"
     ]
    },
    {
     "name": "stdout",
     "output_type": "stream",
     "text": [
      "Computer chooses: rock\n",
      "Computer wins!\n"
     ]
    },
    {
     "name": "stdin",
     "output_type": "stream",
     "text": [
      "Do you want to play again? (yes/no):  no\n"
     ]
    }
   ],
   "source": [
    "import random\n",
    "\n",
    "def get_computer_choice():\n",
    "    choices = ['rock', 'paper', 'scissors']\n",
    "    return random.choice(choices)\n",
    "\n",
    "def get_user_choice():\n",
    "    while True:\n",
    "        user_choice = input(\"Enter your choice (rock, paper, scissors): \")\n",
    "        if user_choice.lower() in ['rock', 'paper', 'scissors']:\n",
    "            return user_choice.lower()\n",
    "        else:\n",
    "            print(\"Invalid choice. Please try again.\")\n",
    "\n",
    "def determine_winner(user_choice, computer_choice):\n",
    "    if user_choice == computer_choice:\n",
    "        return \"It's a tie!\"\n",
    "    elif (user_choice == 'rock' and computer_choice == 'scissors') or \\\n",
    "         (user_choice == 'paper' and computer_choice == 'rock') or \\\n",
    "         (user_choice == 'scissors' and computer_choice == 'paper'):\n",
    "        return \"You win!\"\n",
    "    else:\n",
    "        return \"Computer wins!\"\n",
    "\n",
    "def play_game():\n",
    "    user_choice = get_user_choice()\n",
    "    computer_choice = get_computer_choice()\n",
    "    print(f\"Computer chooses: {computer_choice}\")\n",
    "    print(determine_winner(user_choice, computer_choice))\n",
    "\n",
    "# Main game loop\n",
    "while True:\n",
    "    play_game()\n",
    "    play_again = input(\"Do you want to play again? (yes/no): \")\n",
    "    if play_again.lower() != 'yes':\n",
    "        break"
   ]
  },
  {
   "cell_type": "markdown",
   "id": "05c7d425-2789-482e-97c3-6a3b1c6ef286",
   "metadata": {},
   "source": [
    "- The get_computer_choice function randomly selects the computer's choice from the list of ['rock', 'paper', 'scissors'].\n",
    "\n",
    "- The get_user_choice function prompts the user to enter their choice and validates the input to ensure it is one of ['rock', 'paper', 'scissors'].\n",
    "\n",
    "- The determine_winner function compares the user's choice with the computer's choice and determines the winner based on the rules of rock-paper-scissors.\n",
    "\n",
    "- The play_game function combines the above functions to simulate a single round of the game, printing the computer's choice and the outcome.\n",
    "\n",
    "- The main game loop repeatedly calls play_game and asks the user if they want to play again. If the user enters anything other than 'yes', the loop breaks and the game ends."
   ]
  },
  {
   "cell_type": "markdown",
   "id": "45eb05bf-535a-4aaa-a767-d89e75fcfa1a",
   "metadata": {},
   "source": [
    "### 23. Develop a program that generates a random password based on user preferences (length, complexity)."
   ]
  },
  {
   "cell_type": "code",
   "execution_count": 3,
   "id": "62e2e61c-3ef1-4af9-b465-08575e266dd3",
   "metadata": {},
   "outputs": [
    {
     "name": "stdin",
     "output_type": "stream",
     "text": [
      "Enter the length of the password:  8\n",
      "Enter the complexity level (low, medium, high):  medium\n"
     ]
    },
    {
     "name": "stdout",
     "output_type": "stream",
     "text": [
      "Generated password: [Qz}&Qv!\n"
     ]
    }
   ],
   "source": [
    "import random\n",
    "import string\n",
    "\n",
    "def generate_password(length, complexity):\n",
    "    if complexity == 'low':\n",
    "        characters = string.ascii_letters + string.digits\n",
    "    elif complexity == 'medium':\n",
    "        characters = string.ascii_letters + string.digits + string.punctuation\n",
    "    elif complexity == 'high':\n",
    "        characters = string.ascii_letters + string.digits + string.punctuation + string.ascii_uppercase\n",
    "    else:\n",
    "        raise ValueError(\"Invalid complexity level. Please choose from 'low', 'medium', or 'high'.\")\n",
    "\n",
    "    password = ''.join(random.choice(characters) for _ in range(length))\n",
    "    return password\n",
    "\n",
    "# Input: User preferences for password length and complexity\n",
    "length = int(input(\"Enter the length of the password: \"))\n",
    "complexity = input(\"Enter the complexity level (low, medium, high): \")\n",
    "\n",
    "# Generate and print the password\n",
    "password = generate_password(length, complexity)\n",
    "print(f\"Generated password: {password}\")"
   ]
  },
  {
   "cell_type": "markdown",
   "id": "d4475e34-717c-4ea0-a443-1c4c4ce9ce0c",
   "metadata": {},
   "source": [
    "- The generate_password function takes two arguments: length (the desired length of the password) and complexity (the desired complexity level of the password).\n",
    "\n",
    "- Based on the complexity level chosen by the user ('low', 'medium', or 'high'), the function selects the appropriate characters to include in the password.\n",
    "\n",
    "- The random.choice function is used to randomly select characters from the set of allowed characters for the password.\n",
    "\n",
    "- The function generates a password of the specified length by concatenating the randomly chosen characters.\n",
    "\n",
    "- The main part of the program takes user input for the password length and complexity level, and then calls the generate_password function to generate and print the password."
   ]
  },
  {
   "cell_type": "markdown",
   "id": "ae2143aa-62e1-40f5-bc12-5af201982a01",
   "metadata": {},
   "source": [
    "### 24. Create a program that implements a simple text-based adventure game with branching scenarios."
   ]
  },
  {
   "cell_type": "code",
   "execution_count": 4,
   "id": "f9e1e9ea-f774-43ca-8315-7f53e4e245cd",
   "metadata": {},
   "outputs": [
    {
     "name": "stdout",
     "output_type": "stream",
     "text": [
      "Welcome to the Text Adventure Game!\n",
      "You wake up in a mysterious room with two doors in front of you.\n",
      "Which door do you choose? (1 or 2)\n"
     ]
    },
    {
     "name": "stdin",
     "output_type": "stream",
     "text": [
      "Enter your choice:  1\n"
     ]
    },
    {
     "name": "stdout",
     "output_type": "stream",
     "text": [
      "\n",
      "You open the door and find yourself in a dark forest.\n",
      "You can hear strange noises coming from deeper into the forest.\n",
      "What do you do? (1. Go deeper into the forest, 2. Look for a way out)\n"
     ]
    },
    {
     "name": "stdin",
     "output_type": "stream",
     "text": [
      "Enter your choice:  1\n"
     ]
    },
    {
     "name": "stdout",
     "output_type": "stream",
     "text": [
      "\n",
      "You venture deeper into the forest and encounter a pack of wolves. Game over.\n"
     ]
    }
   ],
   "source": [
    "def start_game():\n",
    "    print(\"Welcome to the Text Adventure Game!\")\n",
    "    print(\"You wake up in a mysterious room with two doors in front of you.\")\n",
    "    print(\"Which door do you choose? (1 or 2)\")\n",
    "\n",
    "    choice = input(\"Enter your choice: \")\n",
    "\n",
    "    if choice == \"1\":\n",
    "        scenario_door_1()\n",
    "    elif choice == \"2\":\n",
    "        scenario_door_2()\n",
    "    else:\n",
    "        print(\"Invalid choice. Game over.\")\n",
    "\n",
    "def scenario_door_1():\n",
    "    print(\"\\nYou open the door and find yourself in a dark forest.\")\n",
    "    print(\"You can hear strange noises coming from deeper into the forest.\")\n",
    "    print(\"What do you do? (1. Go deeper into the forest, 2. Look for a way out)\")\n",
    "\n",
    "    choice = input(\"Enter your choice: \")\n",
    "\n",
    "    if choice == \"1\":\n",
    "        print(\"\\nYou venture deeper into the forest and encounter a pack of wolves. Game over.\")\n",
    "    elif choice == \"2\":\n",
    "        print(\"\\nAfter some searching, you find a path that leads you out of the forest. You win!\")\n",
    "    else:\n",
    "        print(\"Invalid choice. Game over.\")\n",
    "\n",
    "def scenario_door_2():\n",
    "    print(\"\\nYou open the door and find yourself in a room filled with treasure.\")\n",
    "    print(\"You also notice a sleeping dragon in the corner of the room.\")\n",
    "    print(\"What do you do? (1. Try to steal some treasure, 2. Quietly leave the room)\")\n",
    "\n",
    "    choice = input(\"Enter your choice: \")\n",
    "\n",
    "    if choice == \"1\":\n",
    "        print(\"\\nYour attempt to steal treasure wakes up the dragon, and it devours you. Game over.\")\n",
    "    elif choice == \"2\":\n",
    "        print(\"\\nYou quietly leave the room and find yourself back at the starting point. You win!\")\n",
    "    else:\n",
    "        print(\"Invalid choice. Game over.\")\n",
    "\n",
    "# Start the game\n",
    "start_game()"
   ]
  },
  {
   "cell_type": "markdown",
   "id": "9d67a37f-2426-4fbf-b7e1-b0ab1e0f2f44",
   "metadata": {},
   "source": [
    "- The start_game function initiates the game by presenting the player with two doors to choose from.\n",
    "\n",
    "- Depending on the door chosen, the game progresses to different scenarios (scenario_door_1 or scenario_door_2).\n",
    "\n",
    "- Each scenario presents the player with choices that lead to different outcomes, either winning the game or losing.\n",
    "\n",
    "- The game ends when the player makes an invalid choice or reaches a win/lose condition.\n",
    "\n",
    "- The main part of the program starts the game by calling the start_game function."
   ]
  },
  {
   "cell_type": "markdown",
   "id": "45f6ce32-0df8-473e-a9e2-f992053830e6",
   "metadata": {},
   "source": [
    "### 25. Build a program that solves a linear equation  for x, considering different cases."
   ]
  },
  {
   "cell_type": "code",
   "execution_count": 5,
   "id": "0fd3df8b-05d7-4c20-8959-068fd2452369",
   "metadata": {},
   "outputs": [
    {
     "name": "stdin",
     "output_type": "stream",
     "text": [
      "Enter the coefficient 'a':  2\n",
      "Enter the coefficient 'b':  3\n"
     ]
    },
    {
     "name": "stdout",
     "output_type": "stream",
     "text": [
      "The solution is x = -1.5\n"
     ]
    }
   ],
   "source": [
    "def solve_linear_equation(a, b):\n",
    "    if a == 0:\n",
    "        if b == 0:\n",
    "            return \"Infinite solutions (identity equation)\"\n",
    "        else:\n",
    "            return \"No solution (contradictory equation)\"\n",
    "    else:\n",
    "        x = -b / a\n",
    "        return f\"The solution is x = {x}\"\n",
    "\n",
    "# Input: coefficients of the linear equation (ax + b = 0)\n",
    "a = float(input(\"Enter the coefficient 'a': \"))\n",
    "b = float(input(\"Enter the coefficient 'b': \"))\n",
    "\n",
    "# Solve the linear equation and print the result\n",
    "result = solve_linear_equation(a, b)\n",
    "print(result)"
   ]
  },
  {
   "cell_type": "markdown",
   "id": "7da66be4-5017-4989-8ba3-1c54e3348e37",
   "metadata": {},
   "source": [
    "- The solve_linear_equation function takes two arguments a and b, which are the coefficients of the linear equation ax + b = 0.\n",
    "\n",
    "- The function first checks if a is equal to 0. If a is 0, it checks if b is also 0. If both a and b are 0, it returns \"Infinite solutions (identity equation)\" because the equation is an identity (true for all values of x). If b is not 0, it returns \"No solution (contradictory equation)\" because the equation is contradictory (false for all values of x).\n",
    "\n",
    "- If a is not 0, it calculates the solution for x using the formula x = -b / a and returns the solution as a formatted string.\n",
    "\n",
    "- The main part of the program takes user input for the coefficients a and b, calls the solve_linear_equation function with these values, and prints the result."
   ]
  },
  {
   "cell_type": "markdown",
   "id": "ec166321-8c1c-4b52-94f8-d44aaf45fce3",
   "metadata": {},
   "source": [
    "### 26. Write a program that simulates a basic quiz game with multiple-choice questions and scoring."
   ]
  },
  {
   "cell_type": "code",
   "execution_count": 6,
   "id": "80d80333-e7a8-42f6-ba64-d173b1081205",
   "metadata": {},
   "outputs": [
    {
     "name": "stdout",
     "output_type": "stream",
     "text": [
      "What is the capital of France?\n",
      "1. Paris\n",
      "2. Berlin\n",
      "3. London\n"
     ]
    },
    {
     "name": "stdin",
     "output_type": "stream",
     "text": [
      "Enter your choice (1, 2, 3, ...):  1\n"
     ]
    },
    {
     "name": "stdout",
     "output_type": "stream",
     "text": [
      "Correct!\n",
      "Which planet is known as the Red Planet?\n",
      "1. Mars\n",
      "2. Jupiter\n",
      "3. Saturn\n"
     ]
    },
    {
     "name": "stdin",
     "output_type": "stream",
     "text": [
      "Enter your choice (1, 2, 3, ...):  3\n"
     ]
    },
    {
     "name": "stdout",
     "output_type": "stream",
     "text": [
      "Incorrect!\n",
      "Who wrote the play 'Romeo and Juliet'?\n",
      "1. William Shakespeare\n",
      "2. Charles Dickens\n",
      "3. Jane Austen\n"
     ]
    },
    {
     "name": "stdin",
     "output_type": "stream",
     "text": [
      "Enter your choice (1, 2, 3, ...):  2\n"
     ]
    },
    {
     "name": "stdout",
     "output_type": "stream",
     "text": [
      "Incorrect!\n",
      "Your final score is: 1/3\n"
     ]
    }
   ],
   "source": [
    "def display_question(question, choices):\n",
    "    print(question)\n",
    "    for index, choice in enumerate(choices, start=1):\n",
    "        print(f\"{index}. {choice}\")\n",
    "    user_choice = int(input(\"Enter your choice (1, 2, 3, ...): \"))\n",
    "    return user_choice\n",
    "\n",
    "def quiz():\n",
    "    questions = [\n",
    "        {\n",
    "            \"question\": \"What is the capital of France?\",\n",
    "            \"choices\": [\"Paris\", \"Berlin\", \"London\"],\n",
    "            \"correct_answer\": 1\n",
    "        },\n",
    "        {\n",
    "            \"question\": \"Which planet is known as the Red Planet?\",\n",
    "            \"choices\": [\"Mars\", \"Jupiter\", \"Saturn\"],\n",
    "            \"correct_answer\": 1\n",
    "        },\n",
    "        {\n",
    "            \"question\": \"Who wrote the play 'Romeo and Juliet'?\",\n",
    "            \"choices\": [\"William Shakespeare\", \"Charles Dickens\", \"Jane Austen\"],\n",
    "            \"correct_answer\": 1\n",
    "        }\n",
    "    ]\n",
    "\n",
    "    score = 0\n",
    "    for question in questions:\n",
    "        user_choice = display_question(question[\"question\"], question[\"choices\"])\n",
    "        if user_choice == question[\"correct_answer\"]:\n",
    "            print(\"Correct!\")\n",
    "            score += 1\n",
    "        else:\n",
    "            print(\"Incorrect!\")\n",
    "    \n",
    "    print(f\"Your final score is: {score}/{len(questions)}\")\n",
    "\n",
    "# Start the quiz\n",
    "quiz()"
   ]
  },
  {
   "cell_type": "markdown",
   "id": "1b8e7266-0b03-407d-a4fc-769f167f26cd",
   "metadata": {},
   "source": [
    "- The display_question function takes a question and a list of choices as input, displays the question and choices to the user, takes the user's choice as input, and returns the user's choice.\n",
    "\n",
    "- The quiz function contains a list of dictionaries, where each dictionary represents a question, its choices, and the index of the correct choice.\n",
    "\n",
    "- The quiz function iterates over each question, displays it using the display_question function, checks if the user's choice matches the correct answer, and updates the score accordingly.\n",
    "\n",
    "- After all questions have been answered, the quiz function prints the user's final score.\n",
    "\n",
    "- The main part of the program calls the quiz function to start the quiz."
   ]
  },
  {
   "cell_type": "markdown",
   "id": "17c958c0-534d-4f9a-bce8-6d0cd9f691da",
   "metadata": {},
   "source": [
    "### 27. Develop a program that determines whether a given year is a prime number or not."
   ]
  },
  {
   "cell_type": "code",
   "execution_count": 7,
   "id": "ffef9157-53a5-444c-8652-4cadb3abb87f",
   "metadata": {},
   "outputs": [
    {
     "name": "stdin",
     "output_type": "stream",
     "text": [
      "Enter a year:  2004\n"
     ]
    },
    {
     "name": "stdout",
     "output_type": "stream",
     "text": [
      "2004 is not a prime number.\n"
     ]
    }
   ],
   "source": [
    "def is_prime(year):\n",
    "    if year <= 1:\n",
    "        return False\n",
    "    for i in range(2, year):\n",
    "        if year % i == 0:\n",
    "            return False\n",
    "    return True\n",
    "\n",
    "year = int(input(\"Enter a year: \"))\n",
    "if is_prime(year):\n",
    "    print(f\"{year} is a prime number.\")\n",
    "else:\n",
    "    print(f\"{year} is not a prime number.\")"
   ]
  },
  {
   "cell_type": "markdown",
   "id": "c3aac55e-11c7-4885-be9b-4b2dafeb89fe",
   "metadata": {},
   "source": [
    "- The is_prime function takes a year as input and returns True if the year is a prime number, and False otherwise.\n",
    "\n",
    "- It first checks if the year is less than or equal to 1. If so, it returns False because prime numbers are greater than 1.\n",
    "\n",
    "- It then iterates from 2 to year - 1 (inclusive) and checks if year is divisible by i. If it is, the function returns False because year is not a prime number.\n",
    "\n",
    "- If the loop completes without finding any divisors, the function returns True, indicating that the year is a prime number.\n",
    "\n",
    "- The main part of the program takes user input for the year and calls the is_prime function to determine if the year is a prime number. It then prints the result."
   ]
  },
  {
   "cell_type": "markdown",
   "id": "abcdab50-1634-40f0-a05e-f5b2fd9b56f8",
   "metadata": {},
   "source": [
    "### 28. Create a program that sorts three numbers in ascending order using conditional statements."
   ]
  },
  {
   "cell_type": "code",
   "execution_count": 8,
   "id": "91bf66cb-aec9-467a-95e2-7000a791a8a6",
   "metadata": {},
   "outputs": [
    {
     "name": "stdin",
     "output_type": "stream",
     "text": [
      "Enter first number:  34\n",
      "Enter second number:  67\n",
      "Enter third number:  12\n"
     ]
    },
    {
     "name": "stdout",
     "output_type": "stream",
     "text": [
      "Sorted numbers in ascending order: (12.0, 34.0, 67.0)\n"
     ]
    }
   ],
   "source": [
    "# Input three numbers\n",
    "num1 = float(input(\"Enter first number: \"))\n",
    "num2 = float(input(\"Enter second number: \"))\n",
    "num3 = float(input(\"Enter third number: \"))\n",
    "\n",
    "# Sort the numbers\n",
    "if num1 <= num2 <= num3:\n",
    "    sorted_nums = (num1, num2, num3)\n",
    "elif num1 <= num3 <= num2:\n",
    "    sorted_nums = (num1, num3, num2)\n",
    "elif num2 <= num1 <= num3:\n",
    "    sorted_nums = (num2, num1, num3)\n",
    "elif num2 <= num3 <= num1:\n",
    "    sorted_nums = (num2, num3, num1)\n",
    "elif num3 <= num1 <= num2:\n",
    "    sorted_nums = (num3, num1, num2)\n",
    "else:\n",
    "    sorted_nums = (num3, num2, num1)\n",
    "\n",
    "# Print the sorted numbers\n",
    "print(\"Sorted numbers in ascending order:\", sorted_nums)"
   ]
  },
  {
   "cell_type": "markdown",
   "id": "9fe2a1c8-cbb5-413c-bda2-a21b2b6519a3",
   "metadata": {},
   "source": [
    "- The program takes three numbers as input from the user.\n",
    "\n",
    "- Using conditional statements (if, elif, else), it checks all possible combinations of the three numbers to determine the correct order.\n",
    "\n",
    "- The sorted numbers are stored in a tuple sorted_nums.\n",
    "\n",
    "- Finally, the program prints the sorted numbers in ascending order."
   ]
  },
  {
   "cell_type": "markdown",
   "id": "de1e5ecf-813c-4043-819e-dd82bb1c8011",
   "metadata": {},
   "source": [
    "### 29. Build a program that determines the roots of a quartic equation using numerical methods"
   ]
  },
  {
   "cell_type": "code",
   "execution_count": 9,
   "id": "aedb97b1-b1a8-4e61-8fc5-7d3344a36173",
   "metadata": {},
   "outputs": [
    {
     "name": "stdout",
     "output_type": "stream",
     "text": [
      "One root of the quartic equation is: 0.3817151626097215\n"
     ]
    }
   ],
   "source": [
    "def f(x, coefficients):\n",
    "    return sum(coeff * (x**i) for i, coeff in enumerate(coefficients))\n",
    "\n",
    "def f_prime(x, coefficients):\n",
    "    return sum(i * coeff * (x**(i-1)) for i, coeff in enumerate(coefficients) if i > 0)\n",
    "\n",
    "def newton_raphson(coefficients, initial_guess=0, max_iterations=100, tolerance=1e-6):\n",
    "    x = initial_guess\n",
    "    for _ in range(max_iterations):\n",
    "        fx = f(x, coefficients)\n",
    "        if abs(fx) < tolerance:\n",
    "            return x\n",
    "        f_prime_x = f_prime(x, coefficients)\n",
    "        if f_prime_x == 0:\n",
    "            return None\n",
    "        x = x - fx / f_prime_x\n",
    "    return None\n",
    "\n",
    "# Coefficients of the quartic equation: ax^4 + bx^3 + cx^2 + dx + e = 0\n",
    "coefficients = [1, -6, 11, -6, 1]  # Example: x^4 - 6x^3 + 11x^2 - 6x + 1 = 0\n",
    "\n",
    "# Find one root of the quartic equation using the Newton-Raphson method\n",
    "root = newton_raphson(coefficients)\n",
    "if root is not None:\n",
    "    print(f\"One root of the quartic equation is: {root}\")\n",
    "else:\n",
    "    print(\"Could not find a root with the given initial guess.\")"
   ]
  },
  {
   "cell_type": "markdown",
   "id": "1f204af9-3613-4337-9e34-de0df9b9df70",
   "metadata": {},
   "source": [
    "- The f function calculates the value of the quartic equation at a given point x using the coefficients of the equation.\n",
    "\n",
    "- The f_prime function calculates the derivative of the quartic equation at a given point x.\n",
    "\n",
    "- The newton_raphson function implements the Newton-Raphson method to find a root of the quartic equation. It takes the coefficients of the equation, an initial guess for the root, the maximum number of iterations, and a tolerance value as input.\n",
    "\n",
    "- The newton_raphson function iteratively refines the initial guess to find a root of the equation within the specified tolerance.\n",
    "\n",
    "- The main part of the program defines the coefficients of the quartic equation and uses the newton_raphson function to find one root of the equation."
   ]
  },
  {
   "cell_type": "markdown",
   "id": "0d302f0d-ccce-4dbb-9bf8-7820a92a8639",
   "metadata": {},
   "source": [
    "### 30. Write a program that calculates the BMI (Body Mass Index) and provides health recommendations based on the user's input."
   ]
  },
  {
   "cell_type": "code",
   "execution_count": 10,
   "id": "775d0e90-e443-4957-95c5-79d18b420166",
   "metadata": {},
   "outputs": [
    {
     "name": "stdin",
     "output_type": "stream",
     "text": [
      "Enter your weight in kilograms:  70\n",
      "Enter your height in meters:  172\n"
     ]
    },
    {
     "name": "stdout",
     "output_type": "stream",
     "text": [
      "Your BMI is: 0.00\n",
      "You are underweight. It's important to eat a balanced diet and consider consulting a healthcare provider.\n"
     ]
    }
   ],
   "source": [
    "def calculate_bmi(weight, height):\n",
    "    return weight / (height**2)\n",
    "\n",
    "def get_health_recommendation(bmi):\n",
    "    if bmi < 18.5:\n",
    "        return \"You are underweight. It's important to eat a balanced diet and consider consulting a healthcare provider.\"\n",
    "    elif 18.5 <= bmi < 25:\n",
    "        return \"Your weight is normal. Keep up the good work!\"\n",
    "    elif 25 <= bmi < 30:\n",
    "        return \"You are overweight. Consider adopting a healthier lifestyle, including a balanced diet and regular exercise.\"\n",
    "    else:\n",
    "        return \"You are obese. It's important to consult a healthcare provider for guidance on weight management.\"\n",
    "\n",
    "weight = float(input(\"Enter your weight in kilograms: \"))\n",
    "height = float(input(\"Enter your height in meters: \"))\n",
    "\n",
    "bmi = calculate_bmi(weight, height)\n",
    "print(f\"Your BMI is: {bmi:.2f}\")\n",
    "print(get_health_recommendation(bmi))"
   ]
  },
  {
   "cell_type": "markdown",
   "id": "6209a226-c621-4388-ae76-0be794c9a85d",
   "metadata": {},
   "source": [
    "- The calculate_bmi function takes the weight (in kilograms) and height (in meters) as input and calculates the BMI using the formula weight / (height**2).\n",
    "\n",
    "- The get_health_recommendation function takes the calculated BMI as input and provides a health recommendation based on the BMI value. The recommendations are based on the standard BMI categories:\n",
    "\n",
    "- Underweight: BMI < 18.5\n",
    "- Normal weight: 18.5 <= BMI < 25\n",
    "- Overweight: 25 <= BMI < 30\n",
    "- Obese: BMI >= 30\n",
    "- The program takes user input for weight and height, calculates the BMI using the calculate_bmi function, and then prints the BMI value and the corresponding health recommendation using the get_health_recommendation function."
   ]
  },
  {
   "cell_type": "markdown",
   "id": "954186a0-2bd5-4e82-8db1-2f652f2a78d9",
   "metadata": {},
   "source": [
    "### **Challenge Level:**"
   ]
  },
  {
   "cell_type": "markdown",
   "id": "deda191b-881a-40bb-8c7e-2d70d3fc0c5d",
   "metadata": {},
   "source": [
    "### 31. Create a program that validates a password based on complexity rules (length, characters, etc.)."
   ]
  },
  {
   "cell_type": "code",
   "execution_count": 15,
   "id": "e8315256-edc6-4338-b449-dc19524604d1",
   "metadata": {},
   "outputs": [
    {
     "name": "stdin",
     "output_type": "stream",
     "text": [
      "Enter your password:  Rajan@Kumar15\n"
     ]
    },
    {
     "name": "stdout",
     "output_type": "stream",
     "text": [
      "Password is valid\n"
     ]
    }
   ],
   "source": [
    "def validate_password(password):\n",
    "    # Rule 1: Password should be at least 8 characters long\n",
    "    if len(password) < 8:\n",
    "        return False, \"Password should be at least 8 characters long\"\n",
    "    \n",
    "    # Rule 2: Password should contain at least one uppercase letter\n",
    "    if not any(char.isupper() for char in password):\n",
    "        return False, \"Password should contain at least one uppercase letter\"\n",
    "    \n",
    "    # Rule 3: Password should contain at least one lowercase letter\n",
    "    if not any(char.islower() for char in password):\n",
    "        return False, \"Password should contain at least one lowercase letter\"\n",
    "    \n",
    "    # Rule 4: Password should contain at least one digit\n",
    "    if not any(char.isdigit() for char in password):\n",
    "        return False, \"Password should contain at least one digit\"\n",
    "    \n",
    "    # Rule 5: Password should contain at least one special character\n",
    "    special_characters = \"!@#$%^&*()-_=+`~[{]};:'\\\",<.>/?\"\n",
    "    if not any(char in special_characters for char in password):\n",
    "        return False, \"Password should contain at least one special character\"\n",
    "    \n",
    "    return True, \"Password is valid\"\n",
    "\n",
    "# Get password from user\n",
    "password = input(\"Enter your password: \")\n",
    "\n",
    "# Validate password\n",
    "is_valid, message = validate_password(password)\n",
    "\n",
    "# Print validation result\n",
    "print(message)"
   ]
  },
  {
   "cell_type": "markdown",
   "id": "75a62058-ec0e-48f8-b4e6-f0c06fd2fbd1",
   "metadata": {},
   "source": [
    "- The validate_password function takes a password as input and validates it based on the following complexity rules:\n",
    "\n",
    "- Rule 1: Password should be at least 8 characters long\n",
    "- Rule 2: Password should contain at least one uppercase letter\n",
    "- Rule 3: Password should contain at least one lowercase letter\n",
    "- Rule 4: Password should contain at least one digit\n",
    "- Rule 5: Password should contain at least one special character (e.g., !@#$%^&*()-_=+`~[{]};:'\",<.>/?)\n",
    "The function checks each rule and returns a tuple containing a boolean value indicating whether the password is valid (True or False) and a message describing the result.\n",
    "\n",
    "The main part of the program prompts the user to enter a password, calls the validate_password function, and prints the validation message."
   ]
  },
  {
   "cell_type": "markdown",
   "id": "3976041e-9502-41f1-8278-9afed586d890",
   "metadata": {},
   "source": [
    "### 32. Develop a program that performs matrix addition and subtraction based on user input."
   ]
  },
  {
   "cell_type": "code",
   "execution_count": 1,
   "id": "ca315de2-a8f2-4ac2-bf30-35675fc9551f",
   "metadata": {},
   "outputs": [
    {
     "name": "stdin",
     "output_type": "stream",
     "text": [
      "Enter row separated by space:  3\n",
      "Enter row separated by space:  2\n",
      "Enter row separated by space:  1\n",
      "Enter row separated by space:  1\n"
     ]
    },
    {
     "name": "stdout",
     "output_type": "stream",
     "text": [
      "Matrix Addition:\n",
      "[4]\n",
      "[3]\n",
      "\n",
      "Matrix Subtraction:\n",
      "[2]\n",
      "[1]\n"
     ]
    }
   ],
   "source": [
    "def matrix_addition(matrix1, matrix2):\n",
    "    result = []\n",
    "    for i in range(len(matrix1)):\n",
    "        row = []\n",
    "        for j in range(len(matrix1[0])):\n",
    "            row.append(matrix1[i][j] + matrix2[i][j])\n",
    "        result.append(row)\n",
    "    return result\n",
    "\n",
    "def matrix_subtraction(matrix1, matrix2):\n",
    "    result = []\n",
    "    for i in range(len(matrix1)):\n",
    "        row = []\n",
    "        for j in range(len(matrix1[0])):\n",
    "            row.append(matrix1[i][j] - matrix2[i][j])\n",
    "        result.append(row)\n",
    "    return result\n",
    "\n",
    "def display_matrix(matrix):\n",
    "    for row in matrix:\n",
    "        print(row)\n",
    "\n",
    "# Input matrices from user\n",
    "matrix1 = [[int(num) for num in input(\"Enter row separated by space: \").split()] for _ in range(2)]\n",
    "matrix2 = [[int(num) for num in input(\"Enter row separated by space: \").split()] for _ in range(2)]\n",
    "\n",
    "# Perform addition and subtraction\n",
    "addition_result = matrix_addition(matrix1, matrix2)\n",
    "subtraction_result = matrix_subtraction(matrix1, matrix2)\n",
    "\n",
    "# Display results\n",
    "print(\"Matrix Addition:\")\n",
    "display_matrix(addition_result)\n",
    "print(\"\\nMatrix Subtraction:\")\n",
    "display_matrix(subtraction_result)"
   ]
  },
  {
   "cell_type": "markdown",
   "id": "5114275f-0b2c-42d0-9354-a96e6afd5365",
   "metadata": {},
   "source": [
    "- The matrix_addition function takes two matrices as input and returns the result of their addition. It iterates through each element of the matrices and adds the corresponding elements together.\n",
    "\n",
    "- The matrix_subtraction function takes two matrices as input and returns the result of their subtraction. It iterates through each element of the matrices and subtracts the corresponding elements.\n",
    "\n",
    "- The display_matrix function is used to display a matrix in a readable format.\n",
    "\n",
    "- The program takes input from the user for two matrices, performs addition and subtraction using the matrix_addition and matrix_subtraction functions, and then displays the results."
   ]
  },
  {
   "cell_type": "markdown",
   "id": "ad05e131-2083-4dc2-b78f-e097b52ebe86",
   "metadata": {},
   "source": [
    "### 33. Write a program that calculates the greatest common divisor (GCD) of two numbers using the Euclidean algorithm."
   ]
  },
  {
   "cell_type": "code",
   "execution_count": 3,
   "id": "ef478360-26fc-4cba-bacf-1d7d0d78095b",
   "metadata": {},
   "outputs": [
    {
     "name": "stdin",
     "output_type": "stream",
     "text": [
      "Enter first number:  20\n",
      "Enter second number:  5\n"
     ]
    },
    {
     "name": "stdout",
     "output_type": "stream",
     "text": [
      "The GCD of 20 and 5 is: 5\n"
     ]
    }
   ],
   "source": [
    "def gcd(a, b):\n",
    "    while b:\n",
    "        a, b = b, a % b\n",
    "    return a\n",
    "\n",
    "# Input two numbers from user\n",
    "num1 = int(input(\"Enter first number: \"))\n",
    "num2 = int(input(\"Enter second number: \"))\n",
    "\n",
    "# Calculate and display the GCD\n",
    "result = gcd(num1, num2)\n",
    "print(f\"The GCD of {num1} and {num2} is: {result}\")"
   ]
  },
  {
   "cell_type": "markdown",
   "id": "ea9b9545-cc1e-4637-93e1-fea716f84d64",
   "metadata": {},
   "source": [
    "- The gcd function implements the Euclidean algorithm to calculate the GCD of two numbers a and b. It repeatedly calculates the remainder of a divided by b and assigns b to a and the remainder to b. This process continues until b becomes 0, at which point a is the GCD.\n",
    "\n",
    "- The program takes two numbers as input from the user.\n",
    "\n",
    "- It then calls the gcd function with the input numbers and prints the result, which is the GCD of the two numbers."
   ]
  },
  {
   "cell_type": "markdown",
   "id": "cf552a9e-e0f4-4a70-a9c1-da0997a12d04",
   "metadata": {},
   "source": [
    "### 34. Build a program that performs matrix multiplication using nested loops and conditional statements."
   ]
  },
  {
   "cell_type": "code",
   "execution_count": 5,
   "id": "b189d103-a678-4206-aeaa-09a524dde898",
   "metadata": {},
   "outputs": [
    {
     "name": "stdin",
     "output_type": "stream",
     "text": [
      "Enter row separated by space:  3\n",
      "Enter row separated by space:  3\n",
      "Enter row separated by space:  3\n",
      "Enter row separated by space:  3\n"
     ]
    },
    {
     "name": "stdout",
     "output_type": "stream",
     "text": [
      "Matrices cannot be multiplied. Number of columns in the first matrix must be equal to the number of rows in the second matrix.\n"
     ]
    }
   ],
   "source": [
    "def matrix_multiplication(matrix1, matrix2):\n",
    "    if len(matrix1[0]) != len(matrix2):\n",
    "        return None  # Matrices cannot be multiplied\n",
    "    result = [[0 for _ in range(len(matrix2[0]))] for _ in range(len(matrix1))]\n",
    "    for i in range(len(matrix1)):\n",
    "        for j in range(len(matrix2[0])):\n",
    "            for k in range(len(matrix2)):\n",
    "                result[i][j] += matrix1[i][k] * matrix2[k][j]\n",
    "    return result\n",
    "\n",
    "def display_matrix(matrix):\n",
    "    for row in matrix:\n",
    "        print(row)\n",
    "\n",
    "# Input matrices from user\n",
    "matrix1 = [[int(num) for num in input(\"Enter row separated by space: \").split()] for _ in range(2)]\n",
    "matrix2 = [[int(num) for num in input(\"Enter row separated by space: \").split()] for _ in range(2)]\n",
    "\n",
    "# Perform matrix multiplication\n",
    "result = matrix_multiplication(matrix1, matrix2)\n",
    "\n",
    "# Display result\n",
    "if result:\n",
    "    print(\"Matrix Multiplication:\")\n",
    "    display_matrix(result)\n",
    "else:\n",
    "    print(\"Matrices cannot be multiplied. Number of columns in the first matrix must be equal to the number of rows in the second matrix.\")"
   ]
  },
  {
   "cell_type": "markdown",
   "id": "eeee9b96-1f9e-4097-b75d-677d272a883a",
   "metadata": {},
   "source": [
    "### 35. Create a program that simulates a basic text-based tic-tac-toe game against the computer"
   ]
  },
  {
   "cell_type": "markdown",
   "id": "950c045f-540a-4633-9caa-a9f75ad32024",
   "metadata": {},
   "source": [
    "### 36. Write a program that generates Fibonacci numbers up to a specified term using iterative methods."
   ]
  },
  {
   "cell_type": "code",
   "execution_count": 1,
   "id": "e1e13ed5-8b3f-4181-8f27-a4d31b685d42",
   "metadata": {},
   "outputs": [
    {
     "name": "stdin",
     "output_type": "stream",
     "text": [
      "Enter the number of Fibonacci terms:  5\n"
     ]
    },
    {
     "name": "stdout",
     "output_type": "stream",
     "text": [
      "Fibonacci sequence:\n",
      "[0, 1, 1, 2, 3]\n"
     ]
    }
   ],
   "source": [
    "def generate_fibonacci(n):\n",
    "    fibonacci_sequence = []\n",
    "    a, b = 0, 1\n",
    "    for _ in range(n):\n",
    "        fibonacci_sequence.append(a)\n",
    "        a, b = b, a + b\n",
    "    return fibonacci_sequence\n",
    "\n",
    "# Input the number of terms from the user\n",
    "n = int(input(\"Enter the number of Fibonacci terms: \"))\n",
    "\n",
    "# Generate and display the Fibonacci sequence\n",
    "fibonacci_sequence = generate_fibonacci(n)\n",
    "print(\"Fibonacci sequence:\")\n",
    "print(fibonacci_sequence)"
   ]
  },
  {
   "cell_type": "markdown",
   "id": "5f6bdedc-36ac-4cf5-bc1f-619fc08ad846",
   "metadata": {},
   "source": [
    "- def generate_fibonacci(n): - This line defines a function called generate_fibonacci that takes an argument n, which represents the number of Fibonacci terms to generate.\n",
    "\n",
    "- fibonacci_sequence = [] - This line initializes an empty list called fibonacci_sequence to store the Fibonacci numbers.\n",
    "\n",
    "- a, b = 0, 1 - This line initializes two variables a and b to the first two Fibonacci numbers, which are 0 and 1.\n",
    "\n",
    "- for _ in range(n): - This line starts a loop that iterates n times, where _ is a throwaway variable (it's conventionally used when the loop variable is not needed).\n",
    "\n",
    "- fibonacci_sequence.append(a) - This line adds the current Fibonacci number a to the fibonacci_sequence list.\n",
    "\n",
    "- a, b = b, a + b - This line updates the values of a and b to the next Fibonacci numbers in the sequence. It's a common Python idiom to swap values without needing a temporary variable.\n",
    "\n",
    "- return fibonacci_sequence - This line returns the fibonacci_sequence list containing the generated Fibonacci numbers to the caller.\n",
    "\n",
    "- n = int(input(\"Enter the number of Fibonacci terms: \")) - This line prompts the user to enter the number of Fibonacci terms they want to generate and stores the input as an integer in the variable n.\n",
    "\n",
    "- fibonacci_sequence = generate_fibonacci(n) - This line calls the generate_fibonacci function with the user-input n and stores the result in the fibonacci_sequence variable.\n",
    "\n",
    "- print(\"Fibonacci sequence:\") - This line prints a message indicating that the following numbers are part of the Fibonacci sequence.\n",
    "\n",
    "- print(fibonacci_sequence) - This line prints the fibonacci_sequence list containing the generated Fibonacci numbers. The f before the string allows for formatted printing, so the list is printed as-is."
   ]
  },
  {
   "cell_type": "markdown",
   "id": "fbf95f5d-505b-4b7d-9dee-f1fc2606463a",
   "metadata": {},
   "source": [
    "### 37. Develop a program that calculates the nth term of the Fibonacci sequence using memoization."
   ]
  },
  {
   "cell_type": "code",
   "execution_count": 2,
   "id": "d27f8efb-3462-4102-a4b6-5bfda66618c3",
   "metadata": {},
   "outputs": [
    {
     "name": "stdin",
     "output_type": "stream",
     "text": [
      "Enter the value of n:  5\n"
     ]
    },
    {
     "name": "stdout",
     "output_type": "stream",
     "text": [
      "The 5th Fibonacci number is: 5\n"
     ]
    }
   ],
   "source": [
    "def fibonacci(n, memo={}):\n",
    "    if n in memo:\n",
    "        return memo[n]\n",
    "    if n <= 1:\n",
    "        return n\n",
    "    memo[n] = fibonacci(n - 1, memo) + fibonacci(n - 2, memo)\n",
    "    return memo[n]\n",
    "\n",
    "# Input the value of n from the user\n",
    "n = int(input(\"Enter the value of n: \"))\n",
    "\n",
    "# Calculate and display the nth Fibonacci number\n",
    "result = fibonacci(n)\n",
    "print(f\"The {n}th Fibonacci number is: {result}\")"
   ]
  },
  {
   "cell_type": "markdown",
   "id": "5097c00e-b7f7-4b81-9734-7fb0d993071d",
   "metadata": {},
   "source": [
    "- The fibonacci function takes two arguments: n, the term of the Fibonacci sequence to calculate, and memo, a dictionary that stores the results of previous calculations.\n",
    "\n",
    "- The function first checks if the result for n is already in the memo dictionary. If it is, it returns the result directly without recalculating.\n",
    "\n",
    "- If n is 0 or 1, the function returns n itself, as the Fibonacci sequence starts with 0 and 1.\n",
    "\n",
    "- If the result for n is not in the memo dictionary, the function calculates it recursively by summing the results of fibonacci(n - 1) and fibonacci(n - 2), and stores the result in the memo dictionary before returning it.\n",
    "\n",
    "- The program takes input from the user for the value of n, calls the fibonacci function with this value, and then prints the result."
   ]
  },
  {
   "cell_type": "markdown",
   "id": "fddafd2a-82a0-4907-9efb-243d364cb1e5",
   "metadata": {},
   "source": [
    "### 38. Create a program that generates a calendar for a given month and year using conditional statements."
   ]
  },
  {
   "cell_type": "code",
   "execution_count": 3,
   "id": "bae2b859-135b-4f57-821c-93d2ef525c54",
   "metadata": {},
   "outputs": [
    {
     "name": "stdin",
     "output_type": "stream",
     "text": [
      "Enter the month (1-12):  8\n",
      "Enter the year:  2004\n"
     ]
    },
    {
     "name": "stdout",
     "output_type": "stream",
     "text": [
      "--------------------\n",
      "August 2004\n",
      "--------------------\n",
      "Mon  Tue  Wed  Thu  Fri  Sat  Sun\n",
      "                               1   \n",
      " 2    3    4    5    6    7    8   \n",
      " 9   10   11   12   13   14   15   \n",
      "16   17   18   19   20   21   22   \n",
      "23   24   25   26   27   28   29   \n",
      "30   31   \n"
     ]
    }
   ],
   "source": [
    "import calendar\n",
    "\n",
    "def generate_calendar(month, year):\n",
    "    # Determine the day of the week for the first day of the month (0 = Monday, 6 = Sunday)\n",
    "    first_day_of_week = calendar.weekday(year, month, 1)\n",
    "    \n",
    "    # Get the number of days in the month\n",
    "    num_days_in_month = calendar.monthrange(year, month)[1]\n",
    "    \n",
    "    # Print the calendar header\n",
    "    print(f\"{'-' * 20}\\n{calendar.month_name[month]} {year}\\n{'-' * 20}\")\n",
    "    print(\"Mon  Tue  Wed  Thu  Fri  Sat  Sun\")\n",
    "    \n",
    "    # Print leading spaces for the first day\n",
    "    print(\"     \" * first_day_of_week, end=\"\")\n",
    "    \n",
    "    # Print the days of the month\n",
    "    for day in range(1, num_days_in_month + 1):\n",
    "        print(f\"{day:2}   \", end=\"\")\n",
    "        if (day + first_day_of_week) % 7 == 0:\n",
    "            print()\n",
    "    \n",
    "    # Print a newline at the end if necessary\n",
    "    if (num_days_in_month + first_day_of_week) % 7 != 0:\n",
    "        print()\n",
    "\n",
    "# Input the month and year from the user\n",
    "month = int(input(\"Enter the month (1-12): \"))\n",
    "year = int(input(\"Enter the year: \"))\n",
    "\n",
    "# Generate and display the calendar\n",
    "generate_calendar(month, year)"
   ]
  },
  {
   "cell_type": "markdown",
   "id": "0fef802f-7705-46ac-b484-9582559a4305",
   "metadata": {},
   "source": [
    "### 39. Build a program that simulates a basic text-based blackjack game against the computer."
   ]
  },
  {
   "cell_type": "code",
   "execution_count": 4,
   "id": "9a35e9fc-7247-43bd-b959-18b27e12970a",
   "metadata": {},
   "outputs": [
    {
     "name": "stdout",
     "output_type": "stream",
     "text": [
      "Your's Hand:\n",
      "   Queen of Clubs\n",
      "   2 of Spades\n",
      "Dealer's's Hand:\n",
      "   10 of Hearts\n",
      "   Card of Unknown\n"
     ]
    },
    {
     "name": "stdin",
     "output_type": "stream",
     "text": [
      "Do you want to (h)it or (s)tand?  h\n"
     ]
    },
    {
     "name": "stdout",
     "output_type": "stream",
     "text": [
      "Your's Hand:\n",
      "   Queen of Clubs\n",
      "   2 of Spades\n",
      "   Ace of Hearts\n"
     ]
    },
    {
     "name": "stdin",
     "output_type": "stream",
     "text": [
      "Do you want to (h)it or (s)tand?  s\n"
     ]
    },
    {
     "name": "stdout",
     "output_type": "stream",
     "text": [
      "Dealer's's Hand:\n",
      "   10 of Hearts\n",
      "   4 of Clubs\n",
      "Dealer's's Hand:\n",
      "   10 of Hearts\n",
      "   4 of Clubs\n",
      "   3 of Diamonds\n",
      "Dealer wins.\n"
     ]
    }
   ],
   "source": [
    "import random\n",
    "\n",
    "def create_deck():\n",
    "    \"\"\"Create a deck of cards.\"\"\"\n",
    "    suits = ['Hearts', 'Diamonds', 'Clubs', 'Spades']\n",
    "    values = ['2', '3', '4', '5', '6', '7', '8', '9', '10', 'Jack', 'Queen', 'King', 'Ace']\n",
    "    deck = [{'suit': suit, 'value': value} for suit in suits for value in values]\n",
    "    random.shuffle(deck)\n",
    "    return deck\n",
    "\n",
    "def card_value(card):\n",
    "    \"\"\"Return the value of a single card.\"\"\"\n",
    "    if card['value'] in ['Jack', 'Queen', 'King']:\n",
    "        return 10\n",
    "    elif card['value'] == 'Ace':\n",
    "        return 11\n",
    "    else:\n",
    "        return int(card['value'])\n",
    "\n",
    "def hand_value(hand):\n",
    "    \"\"\"Return the total value of a hand.\"\"\"\n",
    "    value = sum(card_value(card) for card in hand)\n",
    "    num_aces = sum(1 for card in hand if card['value'] == 'Ace')\n",
    "    while value > 21 and num_aces:\n",
    "        value -= 10\n",
    "        num_aces -= 1\n",
    "    return value\n",
    "\n",
    "def display_hand(name, hand):\n",
    "    \"\"\"Display a player's or dealer's hand.\"\"\"\n",
    "    print(f\"{name}'s Hand:\")\n",
    "    for card in hand:\n",
    "        print(f\"   {card['value']} of {card['suit']}\")\n",
    "\n",
    "def play_blackjack():\n",
    "    \"\"\"Play a game of blackjack.\"\"\"\n",
    "    deck = create_deck()\n",
    "    player_hand = [deck.pop(), deck.pop()]\n",
    "    dealer_hand = [deck.pop(), deck.pop()]\n",
    "\n",
    "    display_hand(\"Your\", player_hand)\n",
    "    display_hand(\"Dealer's\", [dealer_hand[0], {'suit': 'Unknown', 'value': 'Card'}])\n",
    "\n",
    "    while hand_value(player_hand) < 21:\n",
    "        action = input(\"Do you want to (h)it or (s)tand? \")\n",
    "        if action.lower() != 'h':\n",
    "            break\n",
    "        player_hand.append(deck.pop())\n",
    "        display_hand(\"Your\", player_hand)\n",
    "\n",
    "    if hand_value(player_hand) > 21:\n",
    "        print(\"You bust! Dealer wins.\")\n",
    "        return\n",
    "\n",
    "    display_hand(\"Dealer's\", dealer_hand)\n",
    "    while hand_value(dealer_hand) < 17:\n",
    "        dealer_hand.append(deck.pop())\n",
    "        display_hand(\"Dealer's\", dealer_hand)\n",
    "\n",
    "    if hand_value(dealer_hand) > 21 or hand_value(player_hand) > hand_value(dealer_hand):\n",
    "        print(\"You win!\")\n",
    "    elif hand_value(player_hand) < hand_value(dealer_hand):\n",
    "        print(\"Dealer wins.\")\n",
    "    else:\n",
    "        print(\"It's a tie!\")\n",
    "\n",
    "if __name__ == \"__main__\":\n",
    "    play_blackjack()"
   ]
  },
  {
   "cell_type": "markdown",
   "id": "bf2754b9-96e7-4466-b019-6476dd335442",
   "metadata": {},
   "source": [
    "### 40. Write a program that generates the prime factors of a given number using trial division."
   ]
  },
  {
   "cell_type": "code",
   "execution_count": 5,
   "id": "bf96fbcc-c9ec-4e23-870c-62bcbe5bb6b1",
   "metadata": {},
   "outputs": [
    {
     "name": "stdin",
     "output_type": "stream",
     "text": [
      "Enter a number:  10\n"
     ]
    },
    {
     "name": "stdout",
     "output_type": "stream",
     "text": [
      "Prime factors of 10: [2, 5]\n"
     ]
    }
   ],
   "source": [
    "def prime_factors(n):\n",
    "    factors = []\n",
    "    i = 2\n",
    "    while i * i <= n:\n",
    "        if n % i:\n",
    "            i += 1\n",
    "        else:\n",
    "            n //= i\n",
    "            factors.append(i)\n",
    "    if n > 1:\n",
    "        factors.append(n)\n",
    "    return factors\n",
    "\n",
    "# Input the number from the user\n",
    "num = int(input(\"Enter a number: \"))\n",
    "\n",
    "# Generate and display the prime factors\n",
    "print(f\"Prime factors of {num}: {prime_factors(num)}\")"
   ]
  },
  {
   "cell_type": "markdown",
   "id": "7a365248-c1d1-4f80-b6e4-3c5979c760d7",
   "metadata": {},
   "source": [
    "- def prime_factors(n): - This line defines a function called prime_factors that takes a single argument n, which is the number for which we want to find the prime factors.\n",
    "\n",
    "- factors = [] - This line initializes an empty list called factors to store the prime factors of the number.\n",
    "\n",
    "- i = 2 - This line initializes a variable i to 2, which is the smallest prime number.\n",
    "\n",
    "- while i * i <= n: - This line starts a while loop that continues as long as the square of i is less than or equal to n. This optimization reduces the number of divisions needed to find the prime factors.\n",
    "\n",
    "- if n % i: - This line checks if n is not divisible by i (i.e., there is a remainder when dividing n by i).\n",
    "\n",
    "- i += 1 - If n is not divisible by i, this line increments i by 1 to check the next number.\n",
    "\n",
    "- else: - If n is divisible by i, this line executes.\n",
    "\n",
    "- n //= i - This line divides n by i and updates the value of n to the result of the division, effectively reducing n by the factor i.\n",
    "\n",
    "- factors.append(i) - This line adds the factor i to the factors list.\n",
    "\n",
    "- if n > 1: - This line checks if n is greater than 1, which means n itself is a prime factor.\n",
    "\n",
    "- factors.append(n) - If n is greater than 1, this line adds n to the factors list.\n",
    "\n",
    "- return factors - Finally, this line returns the list of prime factors of the input number n.\n",
    "\n",
    "- num = int(input(\"Enter a number: \")) - This line takes input from the user, asking them to enter a number, and converts it to an integer num.\n",
    "\n",
    "- print(f\"Prime factors of {num}: {prime_factors(num)}\") - This line calls the prime_factors function with num as the argument and prints the result along with a message indicating the original number."
   ]
  },
  {
   "cell_type": "code",
   "execution_count": null,
   "id": "87922125-4f5a-474c-8a94-19d320ad997c",
   "metadata": {},
   "outputs": [],
   "source": []
  }
 ],
 "metadata": {
  "kernelspec": {
   "display_name": "Python 3 (ipykernel)",
   "language": "python",
   "name": "python3"
  },
  "language_info": {
   "codemirror_mode": {
    "name": "ipython",
    "version": 3
   },
   "file_extension": ".py",
   "mimetype": "text/x-python",
   "name": "python",
   "nbconvert_exporter": "python",
   "pygments_lexer": "ipython3",
   "version": "3.10.8"
  }
 },
 "nbformat": 4,
 "nbformat_minor": 5
}
